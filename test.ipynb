{
 "cells": [
  {
   "cell_type": "code",
   "execution_count": 2,
   "id": "ed9138f6",
   "metadata": {},
   "outputs": [
    {
     "name": "stdout",
     "output_type": "stream",
     "text": [
      "CUDA available: True\n",
      "Number of GPUs: 1\n",
      "Current GPU: NVIDIA GeForce RTX 3050 Laptop GPU\n",
      "\n",
      "✅ a =\n",
      " tensor([[-2.6540,  0.7616,  0.1934],\n",
      "        [ 0.2190, -1.2721, -0.2372],\n",
      "        [ 0.2334,  0.1768, -1.2738]], device='cuda:0')\n",
      "\n",
      "✅ b =\n",
      " tensor([[-0.1665, -0.8465, -0.9867],\n",
      "        [ 0.5051, -0.8505, -0.3782],\n",
      "        [-0.8669, -1.1263, -0.6953]], device='cuda:0')\n",
      "\n",
      "✅ a @ b =\n",
      " tensor([[ 0.6588,  1.3811,  2.1961],\n",
      "        [-0.4734,  1.1636,  0.4300],\n",
      "        [ 1.1546,  1.0868,  0.5885]], device='cuda:0')\n"
     ]
    }
   ],
   "source": [
    "import torch\n",
    "\n",
    "# GPU 사용 가능 여부\n",
    "print(\"CUDA available:\", torch.cuda.is_available())\n",
    "\n",
    "print(\"Number of GPUs:\", torch.cuda.device_count())\n",
    "\n",
    "if torch.cuda.is_available():\n",
    "    print(\"Current GPU:\", torch.cuda.get_device_name(torch.cuda.current_device()))\n",
    "\n",
    "device = \"cuda\"\n",
    "\n",
    "a = torch.randn(3, 3, device=device)\n",
    "b = torch.randn(3, 3, device=device)\n",
    "c = torch.matmul(a, b)\n",
    "\n",
    "print(\"\\n✅ a =\\n\", a)\n",
    "print(\"\\n✅ b =\\n\", b)\n",
    "print(\"\\n✅ a @ b =\\n\", c)"
   ]
  },
  {
   "cell_type": "code",
   "execution_count": null,
   "id": "8086d7eb",
   "metadata": {},
   "outputs": [],
   "source": []
  }
 ],
 "metadata": {
  "kernelspec": {
   "display_name": "torch",
   "language": "python",
   "name": "python3"
  },
  "language_info": {
   "codemirror_mode": {
    "name": "ipython",
    "version": 3
   },
   "file_extension": ".py",
   "mimetype": "text/x-python",
   "name": "python",
   "nbconvert_exporter": "python",
   "pygments_lexer": "ipython3",
   "version": "3.12.9"
  }
 },
 "nbformat": 4,
 "nbformat_minor": 5
}
