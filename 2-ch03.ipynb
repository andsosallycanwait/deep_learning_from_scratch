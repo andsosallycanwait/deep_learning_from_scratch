{
 "cells": [
  {
   "cell_type": "code",
   "execution_count": 8,
   "id": "9d69712d",
   "metadata": {},
   "outputs": [
    {
     "name": "stdout",
     "output_type": "stream",
     "text": [
      "[[ 2.18813097  0.39226017 -0.22030577]]\n"
     ]
    }
   ],
   "source": [
    "import numpy as np\n",
    "\n",
    "one_hot_v = np.array([[1, 0, 0, 0, 0, 0, 0]])\n",
    "W = np.random.randn(7, 3)\n",
    "h = np.dot(one_hot_v, W)\n",
    "\n",
    "print(h)"
   ]
  },
  {
   "cell_type": "code",
   "execution_count": null,
   "id": "2918a354",
   "metadata": {},
   "outputs": [],
   "source": [
    "def softmax(x):\n",
    "    if x.ndim == 2:\n",
    "        c = np.max(x, axis=1, keepdims=True)\n",
    "        exp_x = np.exp(x - c)\n",
    "        sum_exp_x = np.sum(exp_x, axis=1, keepdims=True)\n",
    "        return exp_x / sum_exp_x\n",
    "    else:\n",
    "        c = np.max(x)\n",
    "        exp_x = np.exp(x - c)\n",
    "        return exp_x / np.sum(exp_x)\n",
    "\n",
    "def CEE(y, t):\n",
    "    if y.ndim == 1:\n",
    "        t = t.reshape(1, t.size)\n",
    "        y = y.reshape(1, y.size)\n",
    "        \n",
    "    batch_size = y.shape[0]\n",
    "    \n",
    "    return -np.sum(t * np.log(y + 1e-7)) / batch_size\n",
    "\n",
    "class Softmax_with_Loss:\n",
    "    def __init__(self):\n",
    "        self.y = None\n",
    "        self.t = None\n",
    "        \n",
    "    def forward(self, X, t):\n",
    "        self.y = softmax(X)\n",
    "        self.t = t\n",
    "        loss = CEE(self.y, self.t)\n",
    "        \n",
    "        return loss\n",
    "    \n",
    "    def backward(self):\n",
    "        batch_size = self.t.shape[0]\n",
    "        return (self.y - self.t) / batch_size\n",
    "    \n",
    "#class MatMul:\n",
    "#    def __init__(self, W):\n",
    "#        self.params = [W]\n",
    "#        self.grads = [np.zeros_like(W)]\n",
    "#        self.x = None\n",
    "#        \n",
    "#    def forward(self, x):\n",
    "#        W, = self.params\n",
    "#        out = np.matmul(x, W)\n",
    "#        self.x = x\n",
    "#        \n",
    "#        return out\n",
    "#    \n",
    "#    def backward(self, dout):\n",
    "#        W, = self.params\n",
    "#        dx = np.matmul(dout, W.T)\n",
    "#        dW = np.matmul(self.x.T, dout)\n",
    "#        self.grads[0][...] = dW\n",
    "#        \n",
    "#        return dx\n",
    "    \n",
    "class MatMul:\n",
    "    def __init__(self, W):\n",
    "        self.params = [W]\n",
    "        self.grads = [np.zeros_like(W)]\n",
    "        self.x = None\n",
    "        \n",
    "    def forward(self, x):\n",
    "        W, = self.params\n",
    "        out = np.matmul(x, W)\n",
    "        self.x = x\n",
    "        \n",
    "        return out\n",
    "    \n",
    "    def backward(self, dout):\n",
    "        W, = self.params\n",
    "        x = self.x\n",
    "\n",
    "        if x.ndim == 3:\n",
    "            # x: (B, C, V), dout: (B, C, H)\n",
    "            dx = np.matmul(dout, W.T)  # shape: (B, C, V)\n",
    "\n",
    "            # dW = sum over all batch/context: einsum preferred\n",
    "            dW = np.einsum('bci,bcj->ij', x, dout)  # (V, H)\n",
    "        else:\n",
    "            # x: (B, V), dout: (B, H)\n",
    "            dx = np.matmul(dout, W.T)\n",
    "            dW = np.matmul(x.T, dout)  # (V, H)\n",
    "\n",
    "        self.grads[0][...] = dW\n",
    "        return dx"
   ]
  },
  {
   "cell_type": "code",
   "execution_count": 107,
   "id": "e4a29fed",
   "metadata": {},
   "outputs": [
    {
     "name": "stdout",
     "output_type": "stream",
     "text": [
      "[[ 2.18813097  0.39226017 -0.22030577]]\n"
     ]
    }
   ],
   "source": [
    "layer = MatMul(W)\n",
    "\n",
    "h = layer.forward(one_hot_v)\n",
    "\n",
    "print(h)"
   ]
  },
  {
   "cell_type": "code",
   "execution_count": 108,
   "id": "0e4082fd",
   "metadata": {},
   "outputs": [
    {
     "data": {
      "text/plain": [
       "array([1, 0, 1, 0, 0, 0, 0])"
      ]
     },
     "execution_count": 108,
     "metadata": {},
     "output_type": "execute_result"
    }
   ],
   "source": [
    "one_hot_v1 = np.array([[1, 0, 0, 0, 0, 0, 0]])\n",
    "one_hot_v2 = np.array([[0, 0, 1, 0, 0, 0, 0]])\n",
    "\n",
    "h = np.concatenate((one_hot_v1, one_hot_v2), axis=0)\n",
    "np.sum(h, axis=0)"
   ]
  },
  {
   "cell_type": "code",
   "execution_count": 109,
   "id": "93ed40b7",
   "metadata": {},
   "outputs": [
    {
     "data": {
      "text/plain": [
       "array([-1.76573606, -0.62450752,  1.17267763,  0.76001648, -0.85724845,\n",
       "       -1.51067466, -1.03860214])"
      ]
     },
     "execution_count": 109,
     "metadata": {},
     "output_type": "execute_result"
    }
   ],
   "source": [
    "one_hot_v1 = np.array([[1, 0, 0, 0, 0, 0, 0]])\n",
    "one_hot_v2 = np.array([[0, 0, 1, 0, 0, 0, 0]])\n",
    "\n",
    "input_size = 7\n",
    "hidden_size = 3\n",
    "output_size = 7\n",
    "\n",
    "W_in = np.random.randn(input_size, hidden_size)\n",
    "W_out = np.random.randn(hidden_size, output_size)\n",
    "\n",
    "encoding_layer = MatMul(W_in)\n",
    "decoding_layer = MatMul(W_out)\n",
    "\n",
    "context = np.concatenate((one_hot_v1, one_hot_v2), axis=0)\n",
    "context_len = len(context)\n",
    "hidden_states = encoding_layer.forward(context)\n",
    "hidden_state = np.sum(hidden_states, axis=0)/context_len\n",
    "\n",
    "logit = decoding_layer.forward(hidden_state)\n",
    "logit"
   ]
  },
  {
   "cell_type": "code",
   "execution_count": null,
   "id": "6e1026b4",
   "metadata": {},
   "outputs": [],
   "source": [
    "import numpy as np\n",
    "\n",
    "def preprocess(text):\n",
    "    text = text.lower().replace(\".\", \" .\")\n",
    "    words = text.split(\" \")\n",
    "    \n",
    "    word_to_id = {}\n",
    "    id_to_word = {}\n",
    "    corpus = np.array([], int)\n",
    "    id = 0\n",
    "    for word in words:\n",
    "        if word not in word_to_id.keys():\n",
    "            word_to_id[word] = id\n",
    "            id_to_word[id] = word\n",
    "            id += 1\n",
    "        corpus = np.append(corpus, word_to_id[word])\n",
    "    return corpus, word_to_id, id_to_word\n",
    "\n",
    "def create_co_matrix(corpus, vocab_size, window_size=1):\n",
    "    co_matrix = np.zeros((vocab_size, vocab_size))\n",
    "    max_index = len(corpus) - 1\n",
    "    for index, word_id in enumerate(corpus):\n",
    "        window_left_index = index - window_size\n",
    "        window_right_index = index + window_size\n",
    "        \n",
    "        if index < window_size:\n",
    "            window_left_index = 0\n",
    "        if index > max_index - window_size:\n",
    "            window_right_index = max_index\n",
    "\n",
    "        co_matrix[word_id][corpus[window_left_index:window_right_index+1]] += 1\n",
    "        co_matrix[word_id][word_id] -= 1\n",
    "\n",
    "    return co_matrix        \n",
    "\n",
    "def create_contexts_target(corpus, window_size=1):\n",
    "    corpus, word_to_id, id_to_word = preprocess(corpus)\n",
    "    corpus_len = len(corpus)\n",
    "    \n",
    "    targets = corpus[window_size: corpus_len - window_size]\n",
    "    contexts = None\n",
    "    \n",
    "    for index in range(window_size, corpus_len - window_size):\n",
    "        print(corpus[index - window_size:index])\n",
    "        print(corpus[index + 1:index + window_size+1])\n",
    "        context = np.concatenate((corpus[index - window_size:index], corpus[index + 1:index + window_size+1])).reshape(1, 2*window_size)\n",
    "        if contexts is None:\n",
    "            contexts = context\n",
    "        else:\n",
    "            contexts = np.concatenate((contexts, context), axis=0)\n",
    "    \n",
    "    return contexts, targets"
   ]
  },
  {
   "cell_type": "code",
   "execution_count": 276,
   "id": "1343d076",
   "metadata": {},
   "outputs": [
    {
     "name": "stdout",
     "output_type": "stream",
     "text": [
      "[0]\n",
      "[2]\n",
      "[1]\n",
      "[3]\n",
      "[2]\n",
      "[4]\n",
      "[3]\n",
      "[1]\n",
      "[4]\n",
      "[5]\n",
      "[1]\n",
      "[6]\n",
      "[0 1 2 3 4 1 5 6]\n",
      "[[0 2]\n",
      " [1 3]\n",
      " [2 4]\n",
      " [3 1]\n",
      " [4 5]\n",
      " [1 6]] [1 2 3 4 1 5]\n"
     ]
    }
   ],
   "source": [
    "corpus = \"You say goodbye and I say hello.\"\n",
    "\n",
    "contexts, targets = create_contexts_target(corpus, window_size=1)\n",
    "corpus, word_to_id, id_to_word = preprocess(corpus)\n",
    "print(corpus)\n",
    "print(contexts, targets)"
   ]
  },
  {
   "cell_type": "code",
   "execution_count": 159,
   "id": "61cf497c",
   "metadata": {},
   "outputs": [],
   "source": [
    "def convert_one_hot(word_id_list, vocab_size):\n",
    "    one_hot_vectors = []\n",
    "    \n",
    "    if word_id_list.ndim == 1:\n",
    "        for id in word_id_list:\n",
    "            one_hot_vector = [1 if i == id else 0 for i in range(vocab_size)]\n",
    "            one_hot_vectors.append(one_hot_vector)\n",
    "    else:\n",
    "        for word_ids in word_id_list:\n",
    "            one_hot_vector_list = []\n",
    "            for id in word_ids:\n",
    "                one_hot_vector = [1 if i == id else 0 for i in range(vocab_size)]\n",
    "                one_hot_vector_list.append(one_hot_vector)\n",
    "                \n",
    "            one_hot_vectors.append(one_hot_vector_list)\n",
    "    return np.array(one_hot_vectors)"
   ]
  },
  {
   "cell_type": "code",
   "execution_count": 160,
   "id": "7c7b4d06",
   "metadata": {},
   "outputs": [],
   "source": [
    "targets = convert_one_hot(targets, len(word_to_id))\n",
    "contexts = convert_one_hot(contexts, len(word_to_id))"
   ]
  },
  {
   "cell_type": "code",
   "execution_count": 161,
   "id": "5a126ec4",
   "metadata": {},
   "outputs": [
    {
     "name": "stdout",
     "output_type": "stream",
     "text": [
      "[[0 1 0 0 0 0 0]\n",
      " [0 0 1 0 0 0 0]\n",
      " [0 0 0 1 0 0 0]\n",
      " [0 0 0 0 1 0 0]\n",
      " [0 1 0 0 0 0 0]\n",
      " [0 0 0 0 0 1 0]]\n",
      "[[[1 0 0 0 0 0 0]\n",
      "  [0 0 1 0 0 0 0]]\n",
      "\n",
      " [[0 1 0 0 0 0 0]\n",
      "  [0 0 0 1 0 0 0]]\n",
      "\n",
      " [[0 0 1 0 0 0 0]\n",
      "  [0 0 0 0 1 0 0]]\n",
      "\n",
      " [[0 0 0 1 0 0 0]\n",
      "  [0 1 0 0 0 0 0]]\n",
      "\n",
      " [[0 0 0 0 1 0 0]\n",
      "  [0 0 0 0 0 1 0]]\n",
      "\n",
      " [[0 1 0 0 0 0 0]\n",
      "  [0 0 0 0 0 0 1]]]\n"
     ]
    }
   ],
   "source": [
    "print(targets)\n",
    "print(contexts)"
   ]
  },
  {
   "cell_type": "code",
   "execution_count": 261,
   "id": "b2f029ce",
   "metadata": {},
   "outputs": [],
   "source": [
    "from collections import OrderedDict\n",
    "\n",
    "class SimpleCBOW:\n",
    "    def __init__(self, vocab_size, hidden_size):\n",
    "        self.context_size = None\n",
    "        self.vocab_size = vocab_size\n",
    "        self.hidden_size = hidden_size\n",
    "        self.params = {}\n",
    "        self.grads = {}\n",
    "        self.layers = OrderedDict()\n",
    "        \n",
    "        input_size = vocab_size\n",
    "        output_size = vocab_size\n",
    "        self.params[\"W_in\"] = 0.01 * np.random.randn(input_size, hidden_size).astype('f')\n",
    "        self.params[\"W_out\"] = 0.01 * np.random.randn(hidden_size, output_size).astype('f')\n",
    "        \n",
    "        self.layers[\"encoding_layer\"] = MatMul(self.params[\"W_in\"])\n",
    "        self.layers[\"decoding_layer\"] = MatMul(self.params[\"W_out\"])\n",
    "        self.last_layer = Softmax_with_Loss()\n",
    "\n",
    "        self.word_vecs = self.params[\"W_in\"]\n",
    "        self.grads = {}\n",
    "        \n",
    "    def predict(self, contexts):\n",
    "        _, self.context_size, _ = contexts.shape\n",
    "        \n",
    "        hidden_states = self.layers[\"encoding_layer\"].forward(contexts)\n",
    "        hidden_states = np.sum(hidden_states, axis=1)/self.context_size\n",
    "        logits = self.layers[\"decoding_layer\"].forward(hidden_states)\n",
    "        return logits\n",
    "    \n",
    "    def loss(self, contexts, targets):\n",
    "        logits = self.predict(contexts)\n",
    "        loss = self.last_layer.forward(logits, targets)\n",
    "        \n",
    "        return loss\n",
    "    \n",
    "    def gradient(self, dout=1):\n",
    "        dout = self.last_layer.backward()                                # shape: (B, V)\n",
    "        dout = self.layers[\"decoding_layer\"].backward(dout)              # shape: (B, H)\n",
    "        dout = dout[:, np.newaxis, :] / self.context_size                # shape: (B, 1, H)\n",
    "        dout = np.repeat(dout, self.context_size, axis=1)                # shape: (B, C, H)\n",
    "        self.layers[\"encoding_layer\"].backward(dout)                     # shape: (B, C, V)\n",
    "\n",
    "        self.grads[\"W_in\"] = self.layers[\"encoding_layer\"].grads[0]\n",
    "        self.grads[\"W_out\"] = self.layers[\"decoding_layer\"].grads[0]\n",
    "        \n",
    "        return self.grads\n",
    "        "
   ]
  },
  {
   "cell_type": "code",
   "execution_count": 262,
   "id": "e70c3c2f",
   "metadata": {},
   "outputs": [],
   "source": [
    "class AdaGrad:\n",
    "    def __init__(self, lr):\n",
    "        self.lr = lr\n",
    "        self.h = None\n",
    "        \n",
    "    def update(self, params, grads):\n",
    "        if self.h == None:\n",
    "            self.h = {}\n",
    "            for key, param in params.items():\n",
    "                self.h[key] = np.zeros_like(param)\n",
    "        \n",
    "        for key in params.keys():\n",
    "            self.h[key] = self.h[key] + grads[key]*grads[key]\n",
    "            params[key] -= self.lr * grads[key] / (np.sqrt(self.h[key]) + 1e-7)"
   ]
  },
  {
   "cell_type": "code",
   "execution_count": 263,
   "id": "29f01a86",
   "metadata": {},
   "outputs": [
    {
     "name": "stdout",
     "output_type": "stream",
     "text": [
      "Epoch 0, Loss: 1.7917\n",
      "Epoch 100, Loss: 0.3027\n",
      "Epoch 200, Loss: 0.7885\n",
      "Epoch 300, Loss: 0.6955\n",
      "Epoch 400, Loss: 0.3114\n",
      "Epoch 500, Loss: 0.2562\n",
      "Epoch 600, Loss: 0.0092\n",
      "Epoch 700, Loss: 0.0077\n",
      "Epoch 800, Loss: 0.4670\n",
      "Epoch 900, Loss: 0.0055\n",
      "Training complete.\n"
     ]
    }
   ],
   "source": [
    "# 전처리\n",
    "text = \"You say goodbye and I say hello\"\n",
    "corpus, word_to_id, id_to_word = preprocess(text)\n",
    "contexts_ids, targets_ids = create_contexts_target(text, window_size=1)\n",
    "\n",
    "vocab_size = len(word_to_id)\n",
    "hidden_size = 5\n",
    "batch_size = 3\n",
    "max_epoch = 1000\n",
    "learning_rate = 0.1\n",
    "\n",
    "contexts = convert_one_hot(contexts_ids, vocab_size)   # shape: (N, 2, V)\n",
    "targets = convert_one_hot(targets_ids, vocab_size)     # shape: (N, V)\n",
    "\n",
    "model = SimpleCBOW(vocab_size, hidden_size)\n",
    "optimizer = AdaGrad(lr=learning_rate)\n",
    "\n",
    "data_size = len(contexts)\n",
    "loss_list = []\n",
    "\n",
    "for epoch in range(max_epoch):\n",
    "    batch_mask = np.random.choice(data_size, batch_size)\n",
    "    batch_contexts = contexts[batch_mask]\n",
    "    batch_targets = targets[batch_mask]\n",
    "    \n",
    "    loss = model.loss(batch_contexts, batch_targets)\n",
    "    grads = model.gradient()\n",
    "\n",
    "    optimizer.update(model.params, grads)\n",
    "\n",
    "    loss_list.append(loss)\n",
    "\n",
    "    if epoch % 100 == 0:\n",
    "        print(f\"Epoch {epoch}, Loss: {loss:.4f}\")\n",
    "\n",
    "print(\"Training complete.\")\n"
   ]
  },
  {
   "cell_type": "code",
   "execution_count": 264,
   "id": "e08e7038",
   "metadata": {},
   "outputs": [
    {
     "name": "stdout",
     "output_type": "stream",
     "text": [
      "Training complete.\n"
     ]
    },
    {
     "data": {
      "image/png": "[encoded data removed]",
      "text/plain": [
       "<Figure size 800x400 with 1 Axes>"
      ]
     },
     "metadata": {},
     "output_type": "display_data"
    }
   ],
   "source": [
    "import matplotlib.pyplot as plt\n",
    "\n",
    "def plot_loss_curve(loss_list):\n",
    "    plt.figure(figsize=(8, 4))\n",
    "    plt.plot(loss_list, label='Loss')\n",
    "    plt.xlabel(\"Epoch\")\n",
    "    plt.ylabel(\"Loss\")\n",
    "    plt.title(\"Training Loss Curve\")\n",
    "    plt.grid(True)\n",
    "    plt.legend()\n",
    "    plt.tight_layout()\n",
    "    plt.show()\n",
    "    \n",
    "print(\"Training complete.\")\n",
    "plot_loss_curve(loss_list)\n",
    "\n"
   ]
  },
  {
   "cell_type": "code",
   "execution_count": 265,
   "id": "5e5cda39",
   "metadata": {},
   "outputs": [
    {
     "data": {
      "text/plain": [
       "array([[-2.0838437 , -1.6438929 , -0.8620063 ,  2.6036682 , -0.61646867],\n",
       "       [-0.8497779 ,  1.7997129 ,  1.2584901 ,  1.0277258 ,  1.2203482 ],\n",
       "       [ 0.28241402, -0.16296713, -1.8797202 , -0.8944655 , -1.9171126 ],\n",
       "       [-0.83703345,  1.8034978 ,  1.2560055 ,  1.0382202 ,  1.2121837 ],\n",
       "       [ 0.13594787, -0.30731085, -1.8050112 , -0.76782626, -1.7911061 ],\n",
       "       [-1.8164841 , -1.4163591 , -0.6499874 ,  2.4445887 , -0.57125646]],\n",
       "      dtype=float32)"
      ]
     },
     "execution_count": 265,
     "metadata": {},
     "output_type": "execute_result"
    }
   ],
   "source": [
    "model.word_vecs"
   ]
  },
  {
   "cell_type": "code",
   "execution_count": null,
   "id": "2b83ddf8",
   "metadata": {},
   "outputs": [],
   "source": []
  },
  {
   "cell_type": "code",
   "execution_count": null,
   "id": "a0991c0d",
   "metadata": {},
   "outputs": [],
   "source": []
  }
 ],
 "metadata": {
  "kernelspec": {
   "display_name": "base",
   "language": "python",
   "name": "python3"
  },
  "language_info": {
   "codemirror_mode": {
    "name": "ipython",
    "version": 3
   },
   "file_extension": ".py",
   "mimetype": "text/x-python",
   "name": "python",
   "nbconvert_exporter": "python",
   "pygments_lexer": "ipython3",
   "version": "3.12.7"
  }
 },
 "nbformat": 4,
 "nbformat_minor": 5
}
