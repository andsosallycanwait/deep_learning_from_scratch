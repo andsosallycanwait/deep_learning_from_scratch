{
 "cells": [
  {
   "cell_type": "code",
   "execution_count": 1,
   "metadata": {},
   "outputs": [],
   "source": [
    "import numpy as np\n",
    "import matplotlib.pyplot as plt"
   ]
  },
  {
   "cell_type": "code",
   "execution_count": 2,
   "metadata": {},
   "outputs": [],
   "source": [
    "# sum of squares for error\n",
    "def SSE(y, t):\n",
    "    return (np.sum((y-t)**2))/2"
   ]
  },
  {
   "cell_type": "code",
   "execution_count": 3,
   "metadata": {},
   "outputs": [
    {
     "name": "stdout",
     "output_type": "stream",
     "text": [
      "0.09750000000000003\n",
      "0.5975\n"
     ]
    }
   ],
   "source": [
    "t = np.array([0, 0, 1, 0, 0, 0, 0, 0, 0, 0])\n",
    "y = np.array([0.1, 0.05, 0.6, 0.0, 0.05, 0.1, 0.0, 0.1, 0.0, 0.0])\n",
    "\n",
    "print(SSE(y, t))\n",
    "\n",
    "y = np.array([0.1, 0.05, 0.1, 0.0, 0.05, 0.1, 0.0, 0.6, 0.0, 0.0])\n",
    "print(SSE(y, t))"
   ]
  },
  {
   "cell_type": "code",
   "execution_count": 4,
   "metadata": {},
   "outputs": [],
   "source": [
    "# Cross entropy error\n",
    "def CEE(y, t):\n",
    "    return -(np.sum(t*np.log(y+1e-8)))"
   ]
  },
  {
   "cell_type": "code",
   "execution_count": 5,
   "metadata": {},
   "outputs": [
    {
     "name": "stdout",
     "output_type": "stream",
     "text": [
      "0.5108256070993241\n",
      "2.3025849929940505\n"
     ]
    }
   ],
   "source": [
    "t = np.array([0, 0, 1, 0, 0, 0, 0, 0, 0, 0])\n",
    "y = np.array([0.1, 0.05, 0.6, 0.0, 0.05, 0.1, 0.0, 0.1, 0.0, 0.0])\n",
    "\n",
    "print(CEE(y, t))\n",
    "\n",
    "y = np.array([0.1, 0.05, 0.1, 0.0, 0.05, 0.1, 0.0, 0.6, 0.0, 0.0])\n",
    "print(CEE(y, t))"
   ]
  },
  {
   "cell_type": "code",
   "execution_count": 6,
   "metadata": {},
   "outputs": [
    {
     "name": "stdout",
     "output_type": "stream",
     "text": [
      "(60000, 784)\n",
      "(60000, 10)\n",
      "(10000, 784)\n",
      "(10000, 10)\n"
     ]
    }
   ],
   "source": [
    "from dataset.mnist import load_mnist\n",
    "\n",
    "(x_train, t_train), (x_test, t_test) = load_mnist(normalize=True, one_hot_label=True)\n",
    "\n",
    "print(x_train.shape)\n",
    "print(t_train.shape)\n",
    "print(x_test.shape)\n",
    "print(t_test.shape)"
   ]
  },
  {
   "cell_type": "code",
   "execution_count": 7,
   "metadata": {},
   "outputs": [
    {
     "data": {
      "text/plain": [
       "array([[2, 4, 7, 0]])"
      ]
     },
     "execution_count": 7,
     "metadata": {},
     "output_type": "execute_result"
    }
   ],
   "source": [
    "y = np.array([[0, 0, 1, 0, 0, 0, 0, 0, 0, 0],\n",
    "              [0, 0, 0, 0, 1, 0, 0, 0, 0, 0],\n",
    "              [0, 0, 0, 0, 0, 0, 0, 1, 0, 0],\n",
    "              [1, 0, 0, 0, 0, 0, 0, 0, 0, 0]])\n",
    "\n",
    "t = np.array([2, 4, 7, 0])\n",
    "\n",
    "t.reshape(1, -1)"
   ]
  },
  {
   "cell_type": "code",
   "execution_count": 8,
   "metadata": {},
   "outputs": [],
   "source": [
    "def CEE(y, t):\n",
    "    if y.ndim == 1:\n",
    "        y = y.reshape(1, -1)\n",
    "        t = t.reshape(1)\n",
    "    \n",
    "    if t.ndim == 1:\n",
    "        return -np.sum(np.log(y[np.arange(len(t)), t] + 1e-7)) / len(t)\n",
    "    else:\n",
    "        return -np.sum(t * np.log(y + 1e-7)) / y.shape[0]"
   ]
  },
  {
   "cell_type": "code",
   "execution_count": 9,
   "metadata": {},
   "outputs": [],
   "source": [
    "# 수치 미분(단일)\n",
    "def numerical_diff(f, x):\n",
    "    h = 1e-4\n",
    "    grad = np.zeros_like(x)\n",
    "    \n",
    "    tmp_val = x\n",
    "    fxh1 = f(tmp_val + h)\n",
    "    fxh2 = f(tmp_val - h)\n",
    "    \n",
    "    grad = (fxh1 - fxh2) / (2*h)\n",
    "        \n",
    "    return grad"
   ]
  },
  {
   "cell_type": "code",
   "execution_count": 10,
   "metadata": {},
   "outputs": [
    {
     "name": "stdout",
     "output_type": "stream",
     "text": [
      "0.1999999999990898\n",
      "0.2999999999986347\n"
     ]
    },
    {
     "data": {
      "image/png": "[encoded data removed]",
      "text/plain": [
       "<Figure size 640x480 with 1 Axes>"
      ]
     },
     "metadata": {},
     "output_type": "display_data"
    }
   ],
   "source": [
    "# y = 0.01x² + 0.1x\n",
    "def function_1(x):\n",
    "    return 0.01*x**2 + 0.1*x\n",
    "\n",
    "x = np.arange(0.0, 20.0, 0.1)  # 0에서 20까지 간격 0.1인 배열 x를 만든다.\n",
    "y = function_1(x)\n",
    "plt.xlabel(\"x\")\n",
    "plt.ylabel(\"f(x)\")\n",
    "plt.plot(x, y)\n",
    "# plt.show()\n",
    "\n",
    "# x = 5, 10일때 미분\n",
    "print(numerical_diff(function_1, 5))   # 0.200000000000089\n",
    "print(numerical_diff(function_1, 10))  # 0.29999999999996696"
   ]
  },
  {
   "cell_type": "code",
   "execution_count": 11,
   "metadata": {},
   "outputs": [],
   "source": [
    "def numerical_gradient(f, x):\n",
    "    h = 1e-8\n",
    "    grad = np.zeros_like(x)\n",
    "    \n",
    "    for i in range(len(x)):\n",
    "        tmp_val = x[i]\n",
    "        \n",
    "        x[i] = tmp_val + h\n",
    "        fxh1 = f(x)\n",
    "        \n",
    "        x[i] = tmp_val - h\n",
    "        fxh2 = f(x)\n",
    "        \n",
    "        grad[i] = (fxh1 - fxh2) / (2*h)\n",
    "        \n",
    "        x[i] = tmp_val\n",
    "        \n",
    "    return grad"
   ]
  },
  {
   "cell_type": "code",
   "execution_count": 12,
   "metadata": {},
   "outputs": [],
   "source": [
    "def gradient_descent(f, init_x, lr, step_num):\n",
    "    x = init_x\n",
    "    \n",
    "    for _ in range(step_num):\n",
    "        grad = numerical_gradient(f, x)\n",
    "        x = x - lr*grad\n",
    "        \n",
    "    return x"
   ]
  },
  {
   "cell_type": "code",
   "execution_count": 13,
   "metadata": {},
   "outputs": [
    {
     "data": {
      "text/plain": [
       "array([-6.11110797e-10,  8.14814402e-10])"
      ]
     },
     "execution_count": 13,
     "metadata": {},
     "output_type": "execute_result"
    }
   ],
   "source": [
    "def function_2(x):\n",
    "    return x[0]**2 + x[1]**2\n",
    "\n",
    "init_x = np.array([-3.0, 4.0])\n",
    "gradient_descent(function_2, init_x=init_x, lr=0.1, step_num=100)"
   ]
  },
  {
   "cell_type": "code",
   "execution_count": 14,
   "metadata": {},
   "outputs": [
    {
     "name": "stdout",
     "output_type": "stream",
     "text": [
      "[3.86679657e+09 1.77584273e+08]\n",
      "[-2.99999994  3.99999992]\n"
     ]
    }
   ],
   "source": [
    "init_x = np.array([-3.0, 4.0])\n",
    "print(gradient_descent(function_2, init_x=init_x, lr=10.0, step_num=100))\n",
    "print(gradient_descent(function_2, init_x=init_x, lr=1e-10, step_num=100))"
   ]
  },
  {
   "cell_type": "code",
   "execution_count": 15,
   "metadata": {},
   "outputs": [
    {
     "data": {
      "image/png": "[encoded data removed]",
      "text/plain": [
       "<Figure size 800x600 with 1 Axes>"
      ]
     },
     "metadata": {},
     "output_type": "display_data"
    }
   ],
   "source": [
    "import numpy as np\n",
    "import matplotlib.pyplot as plt\n",
    "\n",
    "# 함수 정의\n",
    "def function_2(x):\n",
    "    return x[0]**2 + x[1]**2\n",
    "\n",
    "# 수치 미분\n",
    "def numerical_gradient(f, x):\n",
    "    h = 1e-8\n",
    "    grad = np.zeros_like(x)\n",
    "    for i in range(len(x)):\n",
    "        tmp_val = x[i]\n",
    "        x[i] = tmp_val + h\n",
    "        fxh1 = f(x)\n",
    "        x[i] = tmp_val - h\n",
    "        fxh2 = f(x)\n",
    "        grad[i] = (fxh1 - fxh2) / (2 * h)\n",
    "        x[i] = tmp_val\n",
    "    return grad\n",
    "\n",
    "# 경사 하강법\n",
    "def gradient_descent(f, init_x, lr, step_num):\n",
    "    x = init_x\n",
    "    x_history = []\n",
    "    for _ in range(step_num):\n",
    "        x_history.append(x.copy())\n",
    "        grad = numerical_gradient(f, x)\n",
    "        x -= lr * grad\n",
    "    return x, np.array(x_history)\n",
    "\n",
    "# 하이퍼파라미터\n",
    "init_x = np.array([-3.0, 4.0])\n",
    "lr = 0.1\n",
    "step_num = 100\n",
    "\n",
    "# 실행\n",
    "final_x, x_history = gradient_descent(function_2, init_x, lr, step_num)\n",
    "\n",
    "# 등고선용 meshgrid\n",
    "x0 = np.linspace(-5.0, 5.0, 100)\n",
    "x1 = np.linspace(-4.0, 4.0, 100)\n",
    "X, Y = np.meshgrid(x0, x1)\n",
    "Z = X**2 + Y**2\n",
    "\n",
    "# 시각화\n",
    "plt.figure(figsize=(8, 6))\n",
    "contours = plt.contour(X, Y, Z, levels=5, colors='gray', linestyles='dashed')\n",
    "plt.clabel(contours, inline=True, fontsize=8)\n",
    "\n",
    "# 점만 표시 (선 없이)\n",
    "plt.scatter(x_history[:, 0], x_history[:, 1], color='red', s=10, label='GD Points')\n",
    "\n",
    "plt.xlabel('x0')\n",
    "plt.ylabel('x1')\n",
    "plt.grid(True)\n",
    "plt.legend()\n",
    "plt.axis('equal')\n",
    "plt.show()\n"
   ]
  },
  {
   "cell_type": "code",
   "execution_count": 16,
   "metadata": {},
   "outputs": [],
   "source": [
    "from util import softmax\n",
    "\n",
    "class simpleNet:\n",
    "    def __init__(self):\n",
    "        # 2 layer, intput: 3, output:2\n",
    "        self.network = {}\n",
    "        self.network[\"W1\"] = np.random.randn(2,3)\n",
    "        \n",
    "    def forward(self, x):\n",
    "        z = np.dot(x, self.network[\"W1\"])\n",
    "        y = softmax(z)\n",
    "        \n",
    "        return y\n",
    "        \n",
    "    def loss(self, x, t):\n",
    "        y = softmax(self.forward(x))\n",
    "        return CEE(y, t)"
   ]
  },
  {
   "cell_type": "code",
   "execution_count": 17,
   "metadata": {},
   "outputs": [
    {
     "data": {
      "text/plain": [
       "{'W1': array([[-0.72039611, -0.29329259,  0.11319932],\n",
       "        [ 0.21220648, -1.65430635,  0.78987275]])}"
      ]
     },
     "execution_count": 17,
     "metadata": {},
     "output_type": "execute_result"
    }
   ],
   "source": [
    "net = simpleNet()\n",
    "net.network"
   ]
  },
  {
   "cell_type": "code",
   "execution_count": 18,
   "metadata": {},
   "outputs": [
    {
     "data": {
      "text/plain": [
       "array([0.24911576, 0.05999842, 0.69088582])"
      ]
     },
     "execution_count": 18,
     "metadata": {},
     "output_type": "execute_result"
    }
   ],
   "source": [
    "x = np.array([0.6, 0.9])\n",
    "p = net.forward(x)\n",
    "p"
   ]
  },
  {
   "cell_type": "code",
   "execution_count": 19,
   "metadata": {},
   "outputs": [
    {
     "data": {
      "text/plain": [
       "2"
      ]
     },
     "execution_count": 19,
     "metadata": {},
     "output_type": "execute_result"
    }
   ],
   "source": [
    "np.argmax(p)"
   ]
  },
  {
   "cell_type": "code",
   "execution_count": 20,
   "metadata": {},
   "outputs": [],
   "source": [
    "def sigmoid(x):\n",
    "    return 1 / (1 + np.exp(-x))\n",
    "\n",
    "def softmax(x):\n",
    "        c = np.max(x)\n",
    "        exp_x = np.exp(x - c)\n",
    "        sum_exp_x = np.sum(exp_x)\n",
    "        y = exp_x / sum_exp_x\n",
    "        \n",
    "        return y\n",
    "    \n",
    "def CEE(y, t):\n",
    "    if y.ndim == 1:\n",
    "        t = t.reshape(1, t.size)\n",
    "        y = y.reshape(1, y.size)\n",
    "        \n",
    "    batch_size = y.shape[0]\n",
    "    \n",
    "    return -np.sum(np.log(y[np.arange(batch_size), t] + 1e-7)) / batch_size\n",
    "\n",
    "class simpleNet:\n",
    "    def __init__(self):\n",
    "        # 2 layer, intput: 3, output:2\n",
    "        self.network = {}\n",
    "        self.network[\"W1\"] = np.random.randn(2,3)\n",
    "        \n",
    "    def forward(self, x):\n",
    "        z = np.dot(x, self.network[\"W1\"])\n",
    "        y = softmax(z)\n",
    "        \n",
    "        return y\n",
    "        \n",
    "    def loss(self, x, t):\n",
    "        y = softmax(self.forward(x))\n",
    "        return CEE(y, t)"
   ]
  },
  {
   "cell_type": "code",
   "execution_count": 21,
   "metadata": {},
   "outputs": [
    {
     "data": {
      "text/plain": [
       "{'W1': array([[-0.70643653, -0.31853042,  0.61933342],\n",
       "        [ 1.23058122, -0.48771251,  0.84816571]])}"
      ]
     },
     "execution_count": 21,
     "metadata": {},
     "output_type": "execute_result"
    }
   ],
   "source": [
    "net = simpleNet()\n",
    "net.network"
   ]
  },
  {
   "cell_type": "code",
   "execution_count": 22,
   "metadata": {},
   "outputs": [],
   "source": [
    "def sigmoid(x):\n",
    "    return 1 / (1 + np.exp(-x))\n",
    "\n",
    "def softmax(x):\n",
    "        c = np.max(x)\n",
    "        exp_x = np.exp(x - c)\n",
    "        sum_exp_x = np.sum(exp_x)\n",
    "        y = exp_x / sum_exp_x\n",
    "        \n",
    "        return y\n",
    "    \n",
    "def CEE(y, t):\n",
    "    if y.ndim == 1:\n",
    "        t = t.reshape(1, t.size)\n",
    "        y = y.reshape(1, y.size)\n",
    "        \n",
    "    batch_size = y.shape[0]\n",
    "    \n",
    "    return -np.sum(t * np.log(y + 1e-7)) / batch_size\n",
    "\n",
    "# 다차원 배열 gradient 처리\n",
    "def numerical_gradient(f, x):\n",
    "    h = 0.0001\n",
    "\n",
    "    shape = x.shape\n",
    "    x_flatten = x.reshape(-1)\n",
    "    size = len(x_flatten)\n",
    "\n",
    "    grad = np.zeros_like(x_flatten)\n",
    "\n",
    "    for i in range(size):\n",
    "        x_val = x_flatten[i]\n",
    "\n",
    "        x_flatten[i] = x_val + h\n",
    "        fxh1 = f(x_flatten.reshape(shape))\n",
    "\n",
    "        x_flatten[i] = x_val - h\n",
    "        fxh2 = f(x_flatten.reshape(shape))\n",
    "\n",
    "        grad[i] = (fxh1 - fxh2) / (2*h)\n",
    "\n",
    "        x_flatten[i] = x_val\n",
    "        \n",
    "    return grad.reshape(shape)\n",
    "\n",
    "class simpleNet:\n",
    "    def __init__(self):\n",
    "        # 2 layer, intput: 3, output:2\n",
    "        self.network = {}\n",
    "        self.network[\"W1\"] = np.random.randn(2,3)\n",
    "        \n",
    "    def forward(self, x):\n",
    "        z = np.dot(x, self.network[\"W1\"])\n",
    "        y = softmax(z)\n",
    "        \n",
    "        return y\n",
    "        \n",
    "    def loss(self, x, t):\n",
    "        y = self.forward(x)\n",
    "        return CEE(y, t)"
   ]
  },
  {
   "cell_type": "code",
   "execution_count": 23,
   "metadata": {},
   "outputs": [
    {
     "data": {
      "text/plain": [
       "array([[ 0.29757693,  0.27971634, -0.57729327],\n",
       "       [ 0.4463654 ,  0.4195745 , -0.8659399 ]])"
      ]
     },
     "execution_count": 23,
     "metadata": {},
     "output_type": "execute_result"
    }
   ],
   "source": [
    "net = simpleNet()\n",
    "x = np.array([0.6, 0.9])\n",
    "t = np.array([0, 0, 1])\n",
    "\n",
    "def loss_func(W):\n",
    "    net.network[\"W1\"] = W\n",
    "    return net.loss(x, t)\n",
    "\n",
    "numerical_gradient(loss_func, net.network[\"W1\"])"
   ]
  },
  {
   "cell_type": "code",
   "execution_count": 24,
   "metadata": {},
   "outputs": [],
   "source": [
    "def sigmoid(x):\n",
    "    return 1 / (1 + np.exp(-x))\n",
    "\n",
    "def softmax(x):\n",
    "        c = np.max(x)\n",
    "        exp_x = np.exp(x - c)\n",
    "        sum_exp_x = np.sum(exp_x)\n",
    "        y = exp_x / sum_exp_x\n",
    "        \n",
    "        return y\n",
    "\n",
    "# 배치용 CEE\n",
    "def CEE(y, t):\n",
    "    if y.ndim == 1:\n",
    "        y = y.reshape(1, -1)\n",
    "        t = t.reshape(1)\n",
    "    \n",
    "    if t.ndim == 1:\n",
    "        return -np.sum(np.log(y[np.arange(len(t)), t] + 1e-7)) / len(t)\n",
    "    else:\n",
    "        return -np.sum(t * np.log(y + 1e-7)) / y.shape[0]"
   ]
  },
  {
   "cell_type": "code",
   "execution_count": 25,
   "metadata": {},
   "outputs": [],
   "source": [
    "def numerical_gradient(f, params):\n",
    "    h = 0.0001\n",
    "\n",
    "    shape = params.shape\n",
    "    params_flatten = params.reshape(-1)\n",
    "    size = len(params_flatten)\n",
    "\n",
    "    grad = np.zeros_like(params_flatten)\n",
    "\n",
    "    for i in range(size):\n",
    "        param_val = params_flatten[i]\n",
    "\n",
    "        params_flatten[i] = param_val + h\n",
    "        fxh1 = f(params_flatten.reshape(shape))\n",
    "\n",
    "        params_flatten[i] = param_val - h\n",
    "        fxh2 = f(params_flatten.reshape(shape))\n",
    "\n",
    "        grad[i] = (fxh1 - fxh2) / (2*h)\n",
    "\n",
    "        params_flatten[i] = param_val\n",
    "        \n",
    "    return grad.reshape(shape)"
   ]
  },
  {
   "cell_type": "code",
   "execution_count": 26,
   "metadata": {},
   "outputs": [],
   "source": [
    "class TwoLayerNet:\n",
    "    def __init__(self, input_size, hidden_size, output_size):\n",
    "        # 2 layer, intput: 3, output:2\n",
    "        self.params = {}\n",
    "        # layer 1\n",
    "        self.params[\"W1\"] = np.random.randn(input_size,hidden_size)\n",
    "        self.params[\"B1\"] = np.random.randn(hidden_size)\n",
    "        #layer 2\n",
    "        self.params[\"W2\"] = np.random.randn(hidden_size,output_size)\n",
    "        self.params[\"B2\"] = np.random.randn(output_size)\n",
    "        \n",
    "        self.grads = {}\n",
    "        \n",
    "    def predict(self, x):\n",
    "        z = sigmoid(np.dot(x, self.params[\"W1\"]) + self.params[\"B1\"])\n",
    "        y = softmax(np.dot(z, self.params[\"W2\"]) + self.params[\"B2\"])\n",
    "        return y\n",
    "        \n",
    "    def loss(self, x, t):\n",
    "        y = self.predict(x)\n",
    "        \n",
    "        return CEE(y, t)\n",
    "    \n",
    "    def accuracy(self, Y, t):\n",
    "        predict_label = np.argmax(Y, axis=1)\n",
    "        \n",
    "        return np.sum(predict_label == t) / len(predict_label)\n",
    "    \n",
    "    def gradient(self, x, t):\n",
    "        for key in self.params.keys():\n",
    "            def loss_func(param):\n",
    "                return self.loss(x, t)\n",
    "\n",
    "            self.grads[key] = numerical_gradient(loss_func, self.params[key])\n",
    "    \n",
    "        return self.grads\n",
    "        "
   ]
  },
  {
   "cell_type": "code",
   "execution_count": 27,
   "metadata": {},
   "outputs": [
    {
     "data": {
      "text/plain": [
       "((784, 100), (100,), (100, 10), (10,))"
      ]
     },
     "execution_count": 27,
     "metadata": {},
     "output_type": "execute_result"
    }
   ],
   "source": [
    "net = TwoLayerNet(input_size=784, hidden_size=100, output_size=10)\n",
    "net.params[\"W1\"].shape, net.params[\"B1\"].shape, net.params[\"W2\"].shape, net.params[\"B2\"].shape"
   ]
  },
  {
   "cell_type": "code",
   "execution_count": 28,
   "metadata": {},
   "outputs": [
    {
     "ename": "KeyboardInterrupt",
     "evalue": "",
     "output_type": "error",
     "traceback": [
      "\u001b[1;31m---------------------------------------------------------------------------\u001b[0m",
      "\u001b[1;31mKeyboardInterrupt\u001b[0m                         Traceback (most recent call last)",
      "Cell \u001b[1;32mIn[28], line 4\u001b[0m\n\u001b[0;32m      1\u001b[0m x \u001b[38;5;241m=\u001b[39m np\u001b[38;5;241m.\u001b[39mrandom\u001b[38;5;241m.\u001b[39mrandn(\u001b[38;5;241m100\u001b[39m, \u001b[38;5;241m784\u001b[39m)\n\u001b[0;32m      2\u001b[0m t \u001b[38;5;241m=\u001b[39m np\u001b[38;5;241m.\u001b[39mrandom\u001b[38;5;241m.\u001b[39mrandint(\u001b[38;5;241m0\u001b[39m, \u001b[38;5;241m10\u001b[39m, size\u001b[38;5;241m=\u001b[39m(\u001b[38;5;241m100\u001b[39m,))\n\u001b[1;32m----> 4\u001b[0m grads \u001b[38;5;241m=\u001b[39m \u001b[43mnet\u001b[49m\u001b[38;5;241;43m.\u001b[39;49m\u001b[43mgradient\u001b[49m\u001b[43m(\u001b[49m\u001b[43mx\u001b[49m\u001b[43m,\u001b[49m\u001b[43m \u001b[49m\u001b[43mt\u001b[49m\u001b[43m)\u001b[49m\n",
      "Cell \u001b[1;32mIn[26], line 34\u001b[0m, in \u001b[0;36mTwoLayerNet.gradient\u001b[1;34m(self, x, t)\u001b[0m\n\u001b[0;32m     31\u001b[0m     \u001b[38;5;28;01mdef\u001b[39;00m \u001b[38;5;21mloss_func\u001b[39m(param):\n\u001b[0;32m     32\u001b[0m         \u001b[38;5;28;01mreturn\u001b[39;00m \u001b[38;5;28mself\u001b[39m\u001b[38;5;241m.\u001b[39mloss(x, t)\n\u001b[1;32m---> 34\u001b[0m     \u001b[38;5;28mself\u001b[39m\u001b[38;5;241m.\u001b[39mgrads[key] \u001b[38;5;241m=\u001b[39m \u001b[43mnumerical_gradient\u001b[49m\u001b[43m(\u001b[49m\u001b[43mloss_func\u001b[49m\u001b[43m,\u001b[49m\u001b[43m \u001b[49m\u001b[38;5;28;43mself\u001b[39;49m\u001b[38;5;241;43m.\u001b[39;49m\u001b[43mparams\u001b[49m\u001b[43m[\u001b[49m\u001b[43mkey\u001b[49m\u001b[43m]\u001b[49m\u001b[43m)\u001b[49m\n\u001b[0;32m     36\u001b[0m \u001b[38;5;28;01mreturn\u001b[39;00m \u001b[38;5;28mself\u001b[39m\u001b[38;5;241m.\u001b[39mgrads\n",
      "Cell \u001b[1;32mIn[25], line 17\u001b[0m, in \u001b[0;36mnumerical_gradient\u001b[1;34m(f, params)\u001b[0m\n\u001b[0;32m     14\u001b[0m fxh1 \u001b[38;5;241m=\u001b[39m f(params_flatten\u001b[38;5;241m.\u001b[39mreshape(shape))\n\u001b[0;32m     16\u001b[0m params_flatten[i] \u001b[38;5;241m=\u001b[39m param_val \u001b[38;5;241m-\u001b[39m h\n\u001b[1;32m---> 17\u001b[0m fxh2 \u001b[38;5;241m=\u001b[39m \u001b[43mf\u001b[49m\u001b[43m(\u001b[49m\u001b[43mparams_flatten\u001b[49m\u001b[38;5;241;43m.\u001b[39;49m\u001b[43mreshape\u001b[49m\u001b[43m(\u001b[49m\u001b[43mshape\u001b[49m\u001b[43m)\u001b[49m\u001b[43m)\u001b[49m\n\u001b[0;32m     19\u001b[0m grad[i] \u001b[38;5;241m=\u001b[39m (fxh1 \u001b[38;5;241m-\u001b[39m fxh2) \u001b[38;5;241m/\u001b[39m (\u001b[38;5;241m2\u001b[39m\u001b[38;5;241m*\u001b[39mh)\n\u001b[0;32m     21\u001b[0m params_flatten[i] \u001b[38;5;241m=\u001b[39m param_val\n",
      "Cell \u001b[1;32mIn[26], line 32\u001b[0m, in \u001b[0;36mTwoLayerNet.gradient.<locals>.loss_func\u001b[1;34m(param)\u001b[0m\n\u001b[0;32m     31\u001b[0m \u001b[38;5;28;01mdef\u001b[39;00m \u001b[38;5;21mloss_func\u001b[39m(param):\n\u001b[1;32m---> 32\u001b[0m     \u001b[38;5;28;01mreturn\u001b[39;00m \u001b[38;5;28;43mself\u001b[39;49m\u001b[38;5;241;43m.\u001b[39;49m\u001b[43mloss\u001b[49m\u001b[43m(\u001b[49m\u001b[43mx\u001b[49m\u001b[43m,\u001b[49m\u001b[43m \u001b[49m\u001b[43mt\u001b[49m\u001b[43m)\u001b[49m\n",
      "Cell \u001b[1;32mIn[26], line 20\u001b[0m, in \u001b[0;36mTwoLayerNet.loss\u001b[1;34m(self, x, t)\u001b[0m\n\u001b[0;32m     19\u001b[0m \u001b[38;5;28;01mdef\u001b[39;00m \u001b[38;5;21mloss\u001b[39m(\u001b[38;5;28mself\u001b[39m, x, t):\n\u001b[1;32m---> 20\u001b[0m     y \u001b[38;5;241m=\u001b[39m \u001b[38;5;28;43mself\u001b[39;49m\u001b[38;5;241;43m.\u001b[39;49m\u001b[43mpredict\u001b[49m\u001b[43m(\u001b[49m\u001b[43mx\u001b[49m\u001b[43m)\u001b[49m\n\u001b[0;32m     22\u001b[0m     \u001b[38;5;28;01mreturn\u001b[39;00m CEE(y, t)\n",
      "Cell \u001b[1;32mIn[26], line 15\u001b[0m, in \u001b[0;36mTwoLayerNet.predict\u001b[1;34m(self, x)\u001b[0m\n\u001b[0;32m     14\u001b[0m \u001b[38;5;28;01mdef\u001b[39;00m \u001b[38;5;21mpredict\u001b[39m(\u001b[38;5;28mself\u001b[39m, x):\n\u001b[1;32m---> 15\u001b[0m     z \u001b[38;5;241m=\u001b[39m sigmoid(\u001b[43mnp\u001b[49m\u001b[38;5;241;43m.\u001b[39;49m\u001b[43mdot\u001b[49m\u001b[43m(\u001b[49m\u001b[43mx\u001b[49m\u001b[43m,\u001b[49m\u001b[43m \u001b[49m\u001b[38;5;28;43mself\u001b[39;49m\u001b[38;5;241;43m.\u001b[39;49m\u001b[43mparams\u001b[49m\u001b[43m[\u001b[49m\u001b[38;5;124;43m\"\u001b[39;49m\u001b[38;5;124;43mW1\u001b[39;49m\u001b[38;5;124;43m\"\u001b[39;49m\u001b[43m]\u001b[49m\u001b[43m)\u001b[49m \u001b[38;5;241m+\u001b[39m \u001b[38;5;28mself\u001b[39m\u001b[38;5;241m.\u001b[39mparams[\u001b[38;5;124m\"\u001b[39m\u001b[38;5;124mB1\u001b[39m\u001b[38;5;124m\"\u001b[39m])\n\u001b[0;32m     16\u001b[0m     y \u001b[38;5;241m=\u001b[39m softmax(np\u001b[38;5;241m.\u001b[39mdot(z, \u001b[38;5;28mself\u001b[39m\u001b[38;5;241m.\u001b[39mparams[\u001b[38;5;124m\"\u001b[39m\u001b[38;5;124mW2\u001b[39m\u001b[38;5;124m\"\u001b[39m]) \u001b[38;5;241m+\u001b[39m \u001b[38;5;28mself\u001b[39m\u001b[38;5;241m.\u001b[39mparams[\u001b[38;5;124m\"\u001b[39m\u001b[38;5;124mB2\u001b[39m\u001b[38;5;124m\"\u001b[39m])\n\u001b[0;32m     17\u001b[0m     \u001b[38;5;28;01mreturn\u001b[39;00m y\n",
      "\u001b[1;31mKeyboardInterrupt\u001b[0m: "
     ]
    }
   ],
   "source": [
    "x = np.random.randn(100, 784)\n",
    "t = np.random.randint(0, 10, size=(100,))\n",
    "\n",
    "grads = net.gradient(x, t)"
   ]
  },
  {
   "cell_type": "code",
   "execution_count": null,
   "metadata": {},
   "outputs": [
    {
     "data": {
      "text/plain": [
       "((784, 100), (100,), (100, 10), (10,))"
      ]
     },
     "execution_count": 100,
     "metadata": {},
     "output_type": "execute_result"
    }
   ],
   "source": [
    "grads[\"W1\"].shape, grads[\"B1\"].shape, grads[\"W2\"].shape, grads[\"B2\"].shape"
   ]
  },
  {
   "cell_type": "code",
   "execution_count": null,
   "metadata": {},
   "outputs": [
    {
     "data": {
      "text/plain": [
       "((60000, 784), (60000, 10))"
      ]
     },
     "execution_count": 80,
     "metadata": {},
     "output_type": "execute_result"
    }
   ],
   "source": [
    "x_train.shape, t_train.shape"
   ]
  },
  {
   "cell_type": "code",
   "execution_count": null,
   "metadata": {},
   "outputs": [
    {
     "ename": "ImportError",
     "evalue": "\n================================================================\nFailed to import CuPy.\n\nIf you installed CuPy via wheels (cupy-cudaXXX or cupy-rocm-X-X), make sure that the package matches with the version of CUDA or ROCm installed.\n\nOn Linux, you may need to set LD_LIBRARY_PATH environment variable depending on how you installed CUDA/ROCm.\nOn Windows, try setting CUDA_PATH environment variable.\n\nCheck the Installation Guide for details:\n  https://docs.cupy.dev/en/latest/install.html\n\nOriginal error:\n  ImportError: cannot import name syncdetect\n================================================================\n",
     "output_type": "error",
     "traceback": [
      "\u001b[1;31m---------------------------------------------------------------------------\u001b[0m",
      "\u001b[1;31mImportError\u001b[0m                               Traceback (most recent call last)",
      "File \u001b[1;32mc:\\Users\\andsosallycanwait00\\anaconda3\\envs\\cupy-env\\lib\\site-packages\\cupy\\__init__.py:16\u001b[0m\n\u001b[0;32m     15\u001b[0m \u001b[38;5;28;01mtry\u001b[39;00m:\n\u001b[1;32m---> 16\u001b[0m     \u001b[38;5;28;01mfrom\u001b[39;00m\u001b[38;5;250m \u001b[39m\u001b[38;5;21;01mcupy\u001b[39;00m\u001b[38;5;250m \u001b[39m\u001b[38;5;28;01mimport\u001b[39;00m _core  \u001b[38;5;66;03m# NOQA\u001b[39;00m\n\u001b[0;32m     17\u001b[0m \u001b[38;5;28;01mexcept\u001b[39;00m \u001b[38;5;167;01mImportError\u001b[39;00m \u001b[38;5;28;01mas\u001b[39;00m exc:\n",
      "File \u001b[1;32mc:\\Users\\andsosallycanwait00\\anaconda3\\envs\\cupy-env\\lib\\site-packages\\cupy\\_core\\__init__.py:3\u001b[0m\n\u001b[0;32m      1\u001b[0m \u001b[38;5;66;03m# mypy: ignore-errors\u001b[39;00m\n\u001b[1;32m----> 3\u001b[0m \u001b[38;5;28;01mfrom\u001b[39;00m\u001b[38;5;250m \u001b[39m\u001b[38;5;21;01mcupy\u001b[39;00m\u001b[38;5;21;01m.\u001b[39;00m\u001b[38;5;21;01m_core\u001b[39;00m\u001b[38;5;250m \u001b[39m\u001b[38;5;28;01mimport\u001b[39;00m core  \u001b[38;5;66;03m# NOQA\u001b[39;00m\n\u001b[0;32m      4\u001b[0m \u001b[38;5;28;01mfrom\u001b[39;00m\u001b[38;5;250m \u001b[39m\u001b[38;5;21;01mcupy\u001b[39;00m\u001b[38;5;21;01m.\u001b[39;00m\u001b[38;5;21;01m_core\u001b[39;00m\u001b[38;5;250m \u001b[39m\u001b[38;5;28;01mimport\u001b[39;00m fusion  \u001b[38;5;66;03m# NOQA\u001b[39;00m\n",
      "File \u001b[1;32mcupy\\_core\\core.pyx:1\u001b[0m, in \u001b[0;36minit cupy._core.core\u001b[1;34m()\u001b[0m\n",
      "File \u001b[1;32mc:\\Users\\andsosallycanwait00\\anaconda3\\envs\\cupy-env\\lib\\site-packages\\cupy\\cuda\\__init__.py:9\u001b[0m\n\u001b[0;32m      8\u001b[0m \u001b[38;5;28;01mfrom\u001b[39;00m\u001b[38;5;250m \u001b[39m\u001b[38;5;21;01mcupy\u001b[39;00m\u001b[38;5;21;01m.\u001b[39;00m\u001b[38;5;21;01m_environment\u001b[39;00m\u001b[38;5;250m \u001b[39m\u001b[38;5;28;01mimport\u001b[39;00m get_hipcc_path  \u001b[38;5;66;03m# NOQA\u001b[39;00m\n\u001b[1;32m----> 9\u001b[0m \u001b[38;5;28;01mfrom\u001b[39;00m\u001b[38;5;250m \u001b[39m\u001b[38;5;21;01mcupy\u001b[39;00m\u001b[38;5;21;01m.\u001b[39;00m\u001b[38;5;21;01mcuda\u001b[39;00m\u001b[38;5;250m \u001b[39m\u001b[38;5;28;01mimport\u001b[39;00m compiler  \u001b[38;5;66;03m# NOQA\u001b[39;00m\n\u001b[0;32m     10\u001b[0m \u001b[38;5;28;01mfrom\u001b[39;00m\u001b[38;5;250m \u001b[39m\u001b[38;5;21;01mcupy\u001b[39;00m\u001b[38;5;21;01m.\u001b[39;00m\u001b[38;5;21;01mcuda\u001b[39;00m\u001b[38;5;250m \u001b[39m\u001b[38;5;28;01mimport\u001b[39;00m device  \u001b[38;5;66;03m# NOQA\u001b[39;00m\n",
      "File \u001b[1;32mc:\\Users\\andsosallycanwait00\\anaconda3\\envs\\cupy-env\\lib\\site-packages\\cupy\\cuda\\compiler.py:14\u001b[0m\n\u001b[0;32m     12\u001b[0m \u001b[38;5;28;01mimport\u001b[39;00m\u001b[38;5;250m \u001b[39m\u001b[38;5;21;01mwarnings\u001b[39;00m\n\u001b[1;32m---> 14\u001b[0m \u001b[38;5;28;01mfrom\u001b[39;00m\u001b[38;5;250m \u001b[39m\u001b[38;5;21;01mcupy\u001b[39;00m\u001b[38;5;21;01m.\u001b[39;00m\u001b[38;5;21;01mcuda\u001b[39;00m\u001b[38;5;250m \u001b[39m\u001b[38;5;28;01mimport\u001b[39;00m device\n\u001b[0;32m     15\u001b[0m \u001b[38;5;28;01mfrom\u001b[39;00m\u001b[38;5;250m \u001b[39m\u001b[38;5;21;01mcupy\u001b[39;00m\u001b[38;5;21;01m.\u001b[39;00m\u001b[38;5;21;01mcuda\u001b[39;00m\u001b[38;5;250m \u001b[39m\u001b[38;5;28;01mimport\u001b[39;00m function\n",
      "File \u001b[1;32mcupy\\cuda\\device.pyx:5\u001b[0m, in \u001b[0;36minit cupy.cuda.device\u001b[1;34m()\u001b[0m\n",
      "\u001b[1;31mImportError\u001b[0m: cannot import name syncdetect",
      "\nThe above exception was the direct cause of the following exception:\n",
      "\u001b[1;31mImportError\u001b[0m                               Traceback (most recent call last)",
      "Cell \u001b[1;32mIn[6], line 1\u001b[0m\n\u001b[1;32m----> 1\u001b[0m \u001b[38;5;28;01mimport\u001b[39;00m\u001b[38;5;250m \u001b[39m\u001b[38;5;21;01mcupy\u001b[39;00m\n\u001b[0;32m      2\u001b[0m cupy\u001b[38;5;241m.\u001b[39mshow_config()\n",
      "File \u001b[1;32mc:\\Users\\andsosallycanwait00\\anaconda3\\envs\\cupy-env\\lib\\site-packages\\cupy\\__init__.py:18\u001b[0m\n\u001b[0;32m     16\u001b[0m     \u001b[38;5;28;01mfrom\u001b[39;00m\u001b[38;5;250m \u001b[39m\u001b[38;5;21;01mcupy\u001b[39;00m\u001b[38;5;250m \u001b[39m\u001b[38;5;28;01mimport\u001b[39;00m _core  \u001b[38;5;66;03m# NOQA\u001b[39;00m\n\u001b[0;32m     17\u001b[0m \u001b[38;5;28;01mexcept\u001b[39;00m \u001b[38;5;167;01mImportError\u001b[39;00m \u001b[38;5;28;01mas\u001b[39;00m exc:\n\u001b[1;32m---> 18\u001b[0m     \u001b[38;5;28;01mraise\u001b[39;00m \u001b[38;5;167;01mImportError\u001b[39;00m(\u001b[38;5;124mf\u001b[39m\u001b[38;5;124m'''\u001b[39m\n\u001b[0;32m     19\u001b[0m \u001b[38;5;124m================================================================\u001b[39m\n\u001b[0;32m     20\u001b[0m \u001b[38;5;132;01m{\u001b[39;00m_environment\u001b[38;5;241m.\u001b[39m_diagnose_import_error()\u001b[38;5;132;01m}\u001b[39;00m\n\u001b[0;32m     21\u001b[0m \n\u001b[0;32m     22\u001b[0m \u001b[38;5;124mOriginal error:\u001b[39m\n\u001b[0;32m     23\u001b[0m \u001b[38;5;124m  \u001b[39m\u001b[38;5;132;01m{\u001b[39;00m\u001b[38;5;28mtype\u001b[39m(exc)\u001b[38;5;241m.\u001b[39m\u001b[38;5;18m__name__\u001b[39m\u001b[38;5;132;01m}\u001b[39;00m\u001b[38;5;124m: \u001b[39m\u001b[38;5;132;01m{\u001b[39;00mexc\u001b[38;5;132;01m}\u001b[39;00m\n\u001b[0;32m     24\u001b[0m \u001b[38;5;124m================================================================\u001b[39m\n\u001b[0;32m     25\u001b[0m \u001b[38;5;124m'''\u001b[39m) \u001b[38;5;28;01mfrom\u001b[39;00m\u001b[38;5;250m \u001b[39m\u001b[38;5;21;01mexc\u001b[39;00m\n\u001b[0;32m     28\u001b[0m \u001b[38;5;28;01mfrom\u001b[39;00m\u001b[38;5;250m \u001b[39m\u001b[38;5;21;01mcupy\u001b[39;00m\u001b[38;5;250m \u001b[39m\u001b[38;5;28;01mimport\u001b[39;00m cuda  \u001b[38;5;66;03m# NOQA\u001b[39;00m\n\u001b[0;32m     29\u001b[0m \u001b[38;5;66;03m# Do not make `cupy.cupyx` available because it is confusing.\u001b[39;00m\n",
      "\u001b[1;31mImportError\u001b[0m: \n================================================================\nFailed to import CuPy.\n\nIf you installed CuPy via wheels (cupy-cudaXXX or cupy-rocm-X-X), make sure that the package matches with the version of CUDA or ROCm installed.\n\nOn Linux, you may need to set LD_LIBRARY_PATH environment variable depending on how you installed CUDA/ROCm.\nOn Windows, try setting CUDA_PATH environment variable.\n\nCheck the Installation Guide for details:\n  https://docs.cupy.dev/en/latest/install.html\n\nOriginal error:\n  ImportError: cannot import name syncdetect\n================================================================\n"
     ]
    }
   ],
   "source": [
    "import cupy\n",
    "cupy.show_config()\n"
   ]
  },
  {
   "cell_type": "code",
   "execution_count": null,
   "metadata": {},
   "outputs": [
    {
     "ename": "ImportError",
     "evalue": "\n================================================================\nFailed to import CuPy.\n\nIf you installed CuPy via wheels (cupy-cudaXXX or cupy-rocm-X-X), make sure that the package matches with the version of CUDA or ROCm installed.\n\nOn Linux, you may need to set LD_LIBRARY_PATH environment variable depending on how you installed CUDA/ROCm.\nOn Windows, try setting CUDA_PATH environment variable.\n\nCheck the Installation Guide for details:\n  https://docs.cupy.dev/en/latest/install.html\n\nOriginal error:\n  ImportError: DLL load failed while importing cublas: 지정된 모듈을 찾을 수 없습니다.\n================================================================\n",
     "output_type": "error",
     "traceback": [
      "\u001b[1;31m---------------------------------------------------------------------------\u001b[0m",
      "\u001b[1;31mImportError\u001b[0m                               Traceback (most recent call last)",
      "File \u001b[1;32mc:\\Users\\andsosallycanwait00\\anaconda3\\envs\\cupy-env\\lib\\site-packages\\cupy\\__init__.py:16\u001b[0m\n\u001b[0;32m     15\u001b[0m \u001b[38;5;28;01mtry\u001b[39;00m:\n\u001b[1;32m---> 16\u001b[0m     \u001b[38;5;28;01mfrom\u001b[39;00m\u001b[38;5;250m \u001b[39m\u001b[38;5;21;01mcupy\u001b[39;00m\u001b[38;5;250m \u001b[39m\u001b[38;5;28;01mimport\u001b[39;00m _core  \u001b[38;5;66;03m# NOQA\u001b[39;00m\n\u001b[0;32m     17\u001b[0m \u001b[38;5;28;01mexcept\u001b[39;00m \u001b[38;5;167;01mImportError\u001b[39;00m \u001b[38;5;28;01mas\u001b[39;00m exc:\n",
      "File \u001b[1;32mc:\\Users\\andsosallycanwait00\\anaconda3\\envs\\cupy-env\\lib\\site-packages\\cupy\\_core\\__init__.py:3\u001b[0m\n\u001b[0;32m      1\u001b[0m \u001b[38;5;66;03m# mypy: ignore-errors\u001b[39;00m\n\u001b[1;32m----> 3\u001b[0m \u001b[38;5;28;01mfrom\u001b[39;00m\u001b[38;5;250m \u001b[39m\u001b[38;5;21;01mcupy\u001b[39;00m\u001b[38;5;21;01m.\u001b[39;00m\u001b[38;5;21;01m_core\u001b[39;00m\u001b[38;5;250m \u001b[39m\u001b[38;5;28;01mimport\u001b[39;00m core  \u001b[38;5;66;03m# NOQA\u001b[39;00m\n\u001b[0;32m      4\u001b[0m \u001b[38;5;28;01mfrom\u001b[39;00m\u001b[38;5;250m \u001b[39m\u001b[38;5;21;01mcupy\u001b[39;00m\u001b[38;5;21;01m.\u001b[39;00m\u001b[38;5;21;01m_core\u001b[39;00m\u001b[38;5;250m \u001b[39m\u001b[38;5;28;01mimport\u001b[39;00m fusion  \u001b[38;5;66;03m# NOQA\u001b[39;00m\n",
      "File \u001b[1;32mcupy\\_core\\core.pyx:1\u001b[0m, in \u001b[0;36minit cupy._core.core\u001b[1;34m()\u001b[0m\n",
      "File \u001b[1;32mc:\\Users\\andsosallycanwait00\\anaconda3\\envs\\cupy-env\\lib\\site-packages\\cupy\\cuda\\__init__.py:9\u001b[0m\n\u001b[0;32m      8\u001b[0m \u001b[38;5;28;01mfrom\u001b[39;00m\u001b[38;5;250m \u001b[39m\u001b[38;5;21;01mcupy\u001b[39;00m\u001b[38;5;21;01m.\u001b[39;00m\u001b[38;5;21;01m_environment\u001b[39;00m\u001b[38;5;250m \u001b[39m\u001b[38;5;28;01mimport\u001b[39;00m get_hipcc_path  \u001b[38;5;66;03m# NOQA\u001b[39;00m\n\u001b[1;32m----> 9\u001b[0m \u001b[38;5;28;01mfrom\u001b[39;00m\u001b[38;5;250m \u001b[39m\u001b[38;5;21;01mcupy\u001b[39;00m\u001b[38;5;21;01m.\u001b[39;00m\u001b[38;5;21;01mcuda\u001b[39;00m\u001b[38;5;250m \u001b[39m\u001b[38;5;28;01mimport\u001b[39;00m compiler  \u001b[38;5;66;03m# NOQA\u001b[39;00m\n\u001b[0;32m     10\u001b[0m \u001b[38;5;28;01mfrom\u001b[39;00m\u001b[38;5;250m \u001b[39m\u001b[38;5;21;01mcupy\u001b[39;00m\u001b[38;5;21;01m.\u001b[39;00m\u001b[38;5;21;01mcuda\u001b[39;00m\u001b[38;5;250m \u001b[39m\u001b[38;5;28;01mimport\u001b[39;00m device  \u001b[38;5;66;03m# NOQA\u001b[39;00m\n",
      "File \u001b[1;32mc:\\Users\\andsosallycanwait00\\anaconda3\\envs\\cupy-env\\lib\\site-packages\\cupy\\cuda\\compiler.py:14\u001b[0m\n\u001b[0;32m     12\u001b[0m \u001b[38;5;28;01mimport\u001b[39;00m\u001b[38;5;250m \u001b[39m\u001b[38;5;21;01mwarnings\u001b[39;00m\n\u001b[1;32m---> 14\u001b[0m \u001b[38;5;28;01mfrom\u001b[39;00m\u001b[38;5;250m \u001b[39m\u001b[38;5;21;01mcupy\u001b[39;00m\u001b[38;5;21;01m.\u001b[39;00m\u001b[38;5;21;01mcuda\u001b[39;00m\u001b[38;5;250m \u001b[39m\u001b[38;5;28;01mimport\u001b[39;00m device\n\u001b[0;32m     15\u001b[0m \u001b[38;5;28;01mfrom\u001b[39;00m\u001b[38;5;250m \u001b[39m\u001b[38;5;21;01mcupy\u001b[39;00m\u001b[38;5;21;01m.\u001b[39;00m\u001b[38;5;21;01mcuda\u001b[39;00m\u001b[38;5;250m \u001b[39m\u001b[38;5;28;01mimport\u001b[39;00m function\n",
      "File \u001b[1;32mcupy\\cuda\\device.pyx:8\u001b[0m, in \u001b[0;36minit cupy.cuda.device\u001b[1;34m()\u001b[0m\n",
      "\u001b[1;31mImportError\u001b[0m: DLL load failed while importing cublas: 지정된 모듈을 찾을 수 없습니다.",
      "\nThe above exception was the direct cause of the following exception:\n",
      "\u001b[1;31mImportError\u001b[0m                               Traceback (most recent call last)",
      "Cell \u001b[1;32mIn[2], line 1\u001b[0m\n\u001b[1;32m----> 1\u001b[0m \u001b[38;5;28;01mimport\u001b[39;00m\u001b[38;5;250m \u001b[39m\u001b[38;5;21;01mcupy\u001b[39;00m\u001b[38;5;250m \u001b[39m\u001b[38;5;28;01mas\u001b[39;00m\u001b[38;5;250m \u001b[39m\u001b[38;5;21;01mcp\u001b[39;00m\n\u001b[0;32m      3\u001b[0m \u001b[38;5;66;03m# 기본 정보 출력\u001b[39;00m\n\u001b[0;32m      4\u001b[0m \u001b[38;5;28mprint\u001b[39m(\u001b[38;5;124m\"\u001b[39m\u001b[38;5;124mCuPy version:\u001b[39m\u001b[38;5;124m\"\u001b[39m, cp\u001b[38;5;241m.\u001b[39m__version__)\n",
      "File \u001b[1;32mc:\\Users\\andsosallycanwait00\\anaconda3\\envs\\cupy-env\\lib\\site-packages\\cupy\\__init__.py:18\u001b[0m\n\u001b[0;32m     16\u001b[0m     \u001b[38;5;28;01mfrom\u001b[39;00m\u001b[38;5;250m \u001b[39m\u001b[38;5;21;01mcupy\u001b[39;00m\u001b[38;5;250m \u001b[39m\u001b[38;5;28;01mimport\u001b[39;00m _core  \u001b[38;5;66;03m# NOQA\u001b[39;00m\n\u001b[0;32m     17\u001b[0m \u001b[38;5;28;01mexcept\u001b[39;00m \u001b[38;5;167;01mImportError\u001b[39;00m \u001b[38;5;28;01mas\u001b[39;00m exc:\n\u001b[1;32m---> 18\u001b[0m     \u001b[38;5;28;01mraise\u001b[39;00m \u001b[38;5;167;01mImportError\u001b[39;00m(\u001b[38;5;124mf\u001b[39m\u001b[38;5;124m'''\u001b[39m\n\u001b[0;32m     19\u001b[0m \u001b[38;5;124m================================================================\u001b[39m\n\u001b[0;32m     20\u001b[0m \u001b[38;5;132;01m{\u001b[39;00m_environment\u001b[38;5;241m.\u001b[39m_diagnose_import_error()\u001b[38;5;132;01m}\u001b[39;00m\n\u001b[0;32m     21\u001b[0m \n\u001b[0;32m     22\u001b[0m \u001b[38;5;124mOriginal error:\u001b[39m\n\u001b[0;32m     23\u001b[0m \u001b[38;5;124m  \u001b[39m\u001b[38;5;132;01m{\u001b[39;00m\u001b[38;5;28mtype\u001b[39m(exc)\u001b[38;5;241m.\u001b[39m\u001b[38;5;18m__name__\u001b[39m\u001b[38;5;132;01m}\u001b[39;00m\u001b[38;5;124m: \u001b[39m\u001b[38;5;132;01m{\u001b[39;00mexc\u001b[38;5;132;01m}\u001b[39;00m\n\u001b[0;32m     24\u001b[0m \u001b[38;5;124m================================================================\u001b[39m\n\u001b[0;32m     25\u001b[0m \u001b[38;5;124m'''\u001b[39m) \u001b[38;5;28;01mfrom\u001b[39;00m\u001b[38;5;250m \u001b[39m\u001b[38;5;21;01mexc\u001b[39;00m\n\u001b[0;32m     28\u001b[0m \u001b[38;5;28;01mfrom\u001b[39;00m\u001b[38;5;250m \u001b[39m\u001b[38;5;21;01mcupy\u001b[39;00m\u001b[38;5;250m \u001b[39m\u001b[38;5;28;01mimport\u001b[39;00m cuda  \u001b[38;5;66;03m# NOQA\u001b[39;00m\n\u001b[0;32m     29\u001b[0m \u001b[38;5;66;03m# Do not make `cupy.cupyx` available because it is confusing.\u001b[39;00m\n",
      "\u001b[1;31mImportError\u001b[0m: \n================================================================\nFailed to import CuPy.\n\nIf you installed CuPy via wheels (cupy-cudaXXX or cupy-rocm-X-X), make sure that the package matches with the version of CUDA or ROCm installed.\n\nOn Linux, you may need to set LD_LIBRARY_PATH environment variable depending on how you installed CUDA/ROCm.\nOn Windows, try setting CUDA_PATH environment variable.\n\nCheck the Installation Guide for details:\n  https://docs.cupy.dev/en/latest/install.html\n\nOriginal error:\n  ImportError: DLL load failed while importing cublas: 지정된 모듈을 찾을 수 없습니다.\n================================================================\n"
     ]
    }
   ],
   "source": [
    "import cupy as cp\n",
    "\n",
    "# 기본 정보 출력\n",
    "print(\"CuPy version:\", cp.__version__)\n",
    "print(\"Available GPUs:\", cp.cuda.runtime.getDeviceCount())\n",
    "# GPU 이름 확인\n",
    "print(\"GPU name:\", cp.cuda.runtime.getDeviceProperties(0)['name'])\n",
    "\n",
    "# 간단한 연산으로 GPU 작동 확인\n",
    "x = cp.array([1.0, 2.0, 3.0])\n",
    "y = cp.array([2.0, 2.0, 2.0])\n",
    "z = x + y\n",
    "print(\"Result on GPU:\", z)\n"
   ]
  },
  {
   "cell_type": "code",
   "execution_count": null,
   "metadata": {},
   "outputs": [],
   "source": [
    "class TwoLayerNet:\n",
    "    def __init__(self, input_size, hidden_size, output_size):\n",
    "        # 2 layer, intput: 3, output:2\n",
    "        self.params = {}\n",
    "        # layer 1\n",
    "        self.params[\"W1\"] = np.random.randn(input_size,hidden_size)\n",
    "        self.params[\"B1\"] = np.random.randn(hidden_size)\n",
    "        #layer 2\n",
    "        self.params[\"W2\"] = np.random.randn(hidden_size,output_size)\n",
    "        self.params[\"B2\"] = np.random.randn(output_size)\n",
    "        \n",
    "        self.grads = {}\n",
    "        \n",
    "    def predict(self, x):\n",
    "        z = sigmoid(np.dot(x, self.params[\"W1\"]) + self.params[\"B1\"])\n",
    "        y = softmax(np.dot(z, self.params[\"W2\"]) + self.params[\"B2\"])\n",
    "        return y\n",
    "        \n",
    "    def loss(self, x, t):\n",
    "        y = self.predict(x)\n",
    "        \n",
    "        return CEE(y, t)\n",
    "    \n",
    "    def accuracy(self, Y, t):\n",
    "        predict_label = np.argmax(Y, axis=1)\n",
    "        \n",
    "        return np.sum(predict_label == t) / len(predict_label)\n",
    "    \n",
    "    def gradient(self, x, t):\n",
    "        for key in self.params.keys():\n",
    "            def loss_func(param):\n",
    "                return self.loss(x, t)\n",
    "\n",
    "            self.grads[key] = numerical_gradient(loss_func, self.params[key])\n",
    "    \n",
    "        return self.grads\n",
    "        "
   ]
  },
  {
   "cell_type": "code",
   "execution_count": null,
   "metadata": {},
   "outputs": [],
   "source": [
    "from dataset.mnist import load_mnist\n",
    "\n",
    "(x_train, t_train), (x_test, t_test) = load_mnist(normalize=True, one_hot_label=True)\n",
    "\n",
    "train_loss_list = []\n",
    "\n",
    "iters_num = 10000\n",
    "train_size = x_train.shape[0]\n",
    "batch_size = 100\n",
    "lr = 0.1"
   ]
  },
  {
   "cell_type": "code",
   "execution_count": 41,
   "metadata": {},
   "outputs": [
    {
     "name": "stdout",
     "output_type": "stream",
     "text": [
      "| epoch 0 | iter 100/10000 | loss: 1.1382 |\n",
      "| epoch 0 | iter 200/10000 | loss: 0.7899 |\n",
      "| epoch 0 | iter 300/10000 | loss: 0.5319 |\n",
      "| epoch 0 | iter 400/10000 | loss: 0.3183 |\n",
      "| epoch 0 | iter 500/10000 | loss: 0.3844 |\n",
      "| epoch 0 | iter 600/10000 | loss: 0.4919 |\n",
      "| epoch 1 | iter 700/10000 | loss: 0.3745 |\n",
      "| epoch 1 | iter 800/10000 | loss: 0.1898 |\n",
      "| epoch 1 | iter 900/10000 | loss: 0.2264 |\n",
      "| epoch 1 | iter 1000/10000 | loss: 0.1912 |\n",
      "| epoch 1 | iter 1100/10000 | loss: 0.3862 |\n",
      "| epoch 1 | iter 1200/10000 | loss: 0.2511 |\n",
      "| epoch 2 | iter 1300/10000 | loss: 0.2662 |\n",
      "| epoch 2 | iter 1400/10000 | loss: 0.2214 |\n",
      "| epoch 2 | iter 1500/10000 | loss: 0.2338 |\n",
      "| epoch 2 | iter 1600/10000 | loss: 0.1685 |\n",
      "| epoch 2 | iter 1700/10000 | loss: 0.1309 |\n",
      "| epoch 2 | iter 1800/10000 | loss: 0.2794 |\n",
      "| epoch 3 | iter 1900/10000 | loss: 0.1489 |\n",
      "| epoch 3 | iter 2000/10000 | loss: 0.4233 |\n",
      "| epoch 3 | iter 2100/10000 | loss: 0.3130 |\n",
      "| epoch 3 | iter 2200/10000 | loss: 0.3730 |\n",
      "| epoch 3 | iter 2300/10000 | loss: 0.1902 |\n",
      "| epoch 3 | iter 2400/10000 | loss: 0.2078 |\n",
      "| epoch 4 | iter 2500/10000 | loss: 0.3101 |\n",
      "| epoch 4 | iter 2600/10000 | loss: 0.2042 |\n",
      "| epoch 4 | iter 2700/10000 | loss: 0.1497 |\n",
      "| epoch 4 | iter 2800/10000 | loss: 0.1185 |\n",
      "| epoch 4 | iter 2900/10000 | loss: 0.2697 |\n",
      "| epoch 4 | iter 3000/10000 | loss: 0.2125 |\n",
      "| epoch 5 | iter 3100/10000 | loss: 0.0634 |\n",
      "| epoch 5 | iter 3200/10000 | loss: 0.2020 |\n",
      "| epoch 5 | iter 3300/10000 | loss: 0.1731 |\n",
      "| epoch 5 | iter 3400/10000 | loss: 0.1175 |\n",
      "| epoch 5 | iter 3500/10000 | loss: 0.2303 |\n",
      "| epoch 5 | iter 3600/10000 | loss: 0.0704 |\n",
      "| epoch 6 | iter 3700/10000 | loss: 0.1339 |\n",
      "| epoch 6 | iter 3800/10000 | loss: 0.3009 |\n",
      "| epoch 6 | iter 3900/10000 | loss: 0.2224 |\n",
      "| epoch 6 | iter 4000/10000 | loss: 0.2258 |\n",
      "| epoch 6 | iter 4100/10000 | loss: 0.2238 |\n",
      "| epoch 6 | iter 4200/10000 | loss: 0.1368 |\n",
      "| epoch 7 | iter 4300/10000 | loss: 0.0767 |\n",
      "| epoch 7 | iter 4400/10000 | loss: 0.1316 |\n",
      "| epoch 7 | iter 4500/10000 | loss: 0.0737 |\n",
      "| epoch 7 | iter 4600/10000 | loss: 0.2515 |\n",
      "| epoch 7 | iter 4700/10000 | loss: 0.0960 |\n",
      "| epoch 7 | iter 4800/10000 | loss: 0.1341 |\n",
      "| epoch 8 | iter 4900/10000 | loss: 0.2615 |\n",
      "| epoch 8 | iter 5000/10000 | loss: 0.1530 |\n",
      "| epoch 8 | iter 5100/10000 | loss: 0.1051 |\n",
      "| epoch 8 | iter 5200/10000 | loss: 0.0698 |\n",
      "| epoch 8 | iter 5300/10000 | loss: 0.1088 |\n",
      "| epoch 8 | iter 5400/10000 | loss: 0.1358 |\n",
      "| epoch 9 | iter 5500/10000 | loss: 0.2427 |\n",
      "| epoch 9 | iter 5600/10000 | loss: 0.0832 |\n",
      "| epoch 9 | iter 5700/10000 | loss: 0.1469 |\n",
      "| epoch 9 | iter 5800/10000 | loss: 0.0749 |\n",
      "| epoch 9 | iter 5900/10000 | loss: 0.0880 |\n",
      "| epoch 9 | iter 6000/10000 | loss: 0.1122 |\n",
      "| epoch 10 | iter 6100/10000 | loss: 0.0925 |\n",
      "| epoch 10 | iter 6200/10000 | loss: 0.0950 |\n",
      "| epoch 10 | iter 6300/10000 | loss: 0.0823 |\n",
      "| epoch 10 | iter 6400/10000 | loss: 0.1102 |\n",
      "| epoch 10 | iter 6500/10000 | loss: 0.0738 |\n",
      "| epoch 10 | iter 6600/10000 | loss: 0.0935 |\n",
      "| epoch 11 | iter 6700/10000 | loss: 0.1495 |\n",
      "| epoch 11 | iter 6800/10000 | loss: 0.0790 |\n",
      "| epoch 11 | iter 6900/10000 | loss: 0.0415 |\n",
      "| epoch 11 | iter 7000/10000 | loss: 0.1261 |\n",
      "| epoch 11 | iter 7100/10000 | loss: 0.0677 |\n",
      "| epoch 11 | iter 7200/10000 | loss: 0.0495 |\n",
      "| epoch 12 | iter 7300/10000 | loss: 0.1303 |\n",
      "| epoch 12 | iter 7400/10000 | loss: 0.0869 |\n",
      "| epoch 12 | iter 7500/10000 | loss: 0.0261 |\n",
      "| epoch 12 | iter 7600/10000 | loss: 0.0544 |\n",
      "| epoch 12 | iter 7700/10000 | loss: 0.1770 |\n",
      "| epoch 12 | iter 7800/10000 | loss: 0.1116 |\n",
      "| epoch 13 | iter 7900/10000 | loss: 0.0731 |\n",
      "| epoch 13 | iter 8000/10000 | loss: 0.1058 |\n",
      "| epoch 13 | iter 8100/10000 | loss: 0.1695 |\n",
      "| epoch 13 | iter 8200/10000 | loss: 0.1058 |\n",
      "| epoch 13 | iter 8300/10000 | loss: 0.0636 |\n",
      "| epoch 13 | iter 8400/10000 | loss: 0.0793 |\n",
      "| epoch 14 | iter 8500/10000 | loss: 0.1078 |\n",
      "| epoch 14 | iter 8600/10000 | loss: 0.0829 |\n",
      "| epoch 14 | iter 8700/10000 | loss: 0.0822 |\n",
      "| epoch 14 | iter 8800/10000 | loss: 0.0656 |\n",
      "| epoch 14 | iter 8900/10000 | loss: 0.1101 |\n",
      "| epoch 14 | iter 9000/10000 | loss: 0.0717 |\n",
      "| epoch 15 | iter 9100/10000 | loss: 0.1013 |\n",
      "| epoch 15 | iter 9200/10000 | loss: 0.0769 |\n",
      "| epoch 15 | iter 9300/10000 | loss: 0.0706 |\n",
      "| epoch 15 | iter 9400/10000 | loss: 0.0328 |\n",
      "| epoch 15 | iter 9500/10000 | loss: 0.0606 |\n",
      "| epoch 15 | iter 9600/10000 | loss: 0.0517 |\n",
      "| epoch 16 | iter 9700/10000 | loss: 0.0563 |\n",
      "| epoch 16 | iter 9800/10000 | loss: 0.0337 |\n",
      "| epoch 16 | iter 9900/10000 | loss: 0.0876 |\n",
      "| epoch 16 | iter 10000/10000 | loss: 0.0337 |\n"
     ]
    }
   ],
   "source": [
    "from dataset.mnist import load_mnist\n",
    "from math import ceil\n",
    "\n",
    "(x_train, t_train), (x_test, t_test) = load_mnist(normalize=True, one_hot_label=True)\n",
    "\n",
    "train_loss_list = []\n",
    "\n",
    "iters_num = 10000\n",
    "train_size = x_train.shape[0]\n",
    "batch_size = 100\n",
    "lr = 0.1\n",
    "\n",
    "iter_per_epoch = ceil(train_size / batch_size)\n",
    "epochs_num = ceil(iters_num / iter_per_epoch)\n",
    "\n",
    "def shuffle_data(x, t):\n",
    "    x_dim = x.shape[1]\n",
    "    xt_concat = np.concatenate([x, t], axis=1)\n",
    "    \n",
    "    np.random.shuffle(xt_concat)\n",
    "    \n",
    "    x_shuffled = xt_concat[:, :x_dim]\n",
    "    t_shuffled = xt_concat[:, x_dim:]\n",
    "    \n",
    "    return x_shuffled, t_shuffled\n",
    "\n",
    "network = TwoLayerNet(input_size=784, hidden_size=50, output_size=10)\n",
    "\n",
    "cur_iter = 1\n",
    "for epoch in range(epochs_num):\n",
    "    # 셔플\n",
    "    x_train_shuffled, t_train_shuffled = shuffle_data(x_train, t_train)\n",
    "    offset = 0\n",
    "\n",
    "    # 배치 수\n",
    "    for i in range(iter_per_epoch):\n",
    "        if cur_iter > iters_num:\n",
    "            break  # iteration 수를 채우면 종료\n",
    "\n",
    "        # 미니배치 추출\n",
    "        x_batch = x_train_shuffled[offset:offset+batch_size]\n",
    "        t_batch = t_train_shuffled[offset:offset+batch_size]\n",
    "\n",
    "        grads = network.gradient(x_batch, t_batch)\n",
    "        loss = network.loss(x_batch, t_batch)\n",
    "        if cur_iter%100 == 0:\n",
    "            print(f\"| epoch {epoch} | iter {cur_iter}/{iters_num} | loss: {loss:.4f} |\")\n",
    "\n",
    "        for key in network.params.keys():\n",
    "            network.params[key] -= lr * grads[key]\n",
    "\n",
    "        train_loss_list.append(loss)\n",
    "        cur_iter += 1\n",
    "        offset += batch_size\n",
    "        \n",
    "    if cur_iter > iters_num:\n",
    "        break  # 에폭 루프도 종료"
   ]
  },
  {
   "cell_type": "code",
   "execution_count": 42,
   "metadata": {},
   "outputs": [
    {
     "data": {
      "image/png": "[encoded data removed]",
      "text/plain": [
       "<Figure size 640x480 with 1 Axes>"
      ]
     },
     "metadata": {},
     "output_type": "display_data"
    }
   ],
   "source": [
    "import matplotlib.pyplot as plt\n",
    "\n",
    "# 학습 손실 시각화\n",
    "plt.plot(train_loss_list, label='Training Loss')\n",
    "plt.xlabel('Iterations')\n",
    "plt.ylabel('Loss')\n",
    "plt.title('Training Loss over Iterations')\n",
    "plt.legend()\n",
    "plt.grid(True)\n",
    "plt.show()"
   ]
  },
  {
   "cell_type": "code",
   "execution_count": 50,
   "metadata": {},
   "outputs": [
    {
     "name": "stdout",
     "output_type": "stream",
     "text": [
      "| epoch 0 | iter 100/10000 | loss: 1.1064 |\n",
      "| epoch 0 | iter 200/10000 | loss: 0.4883 |\n",
      "| epoch 0 | iter 300/10000 | loss: 0.4814 |\n",
      "| epoch 0 | iter 400/10000 | loss: 0.5224 |\n",
      "| epoch 0 | iter 500/10000 | loss: 0.3102 |\n",
      "| epoch 0 | iter 600/10000 | loss: 0.4276 |\n",
      "========= train accuracy : 0.90425 / test accuracy : 0.91 =========\n",
      "| epoch 1 | iter 700/10000 | loss: 0.3542 |\n",
      "| epoch 1 | iter 800/10000 | loss: 0.2717 |\n",
      "| epoch 1 | iter 900/10000 | loss: 0.2614 |\n",
      "| epoch 1 | iter 1000/10000 | loss: 0.3451 |\n",
      "| epoch 1 | iter 1100/10000 | loss: 0.2210 |\n",
      "| epoch 1 | iter 1200/10000 | loss: 0.4511 |\n",
      "========= train accuracy : 0.9250666666666667 / test accuracy : 0.9277 =========\n",
      "| epoch 2 | iter 1300/10000 | loss: 0.3366 |\n",
      "| epoch 2 | iter 1400/10000 | loss: 0.1983 |\n",
      "| epoch 2 | iter 1500/10000 | loss: 0.1335 |\n",
      "| epoch 2 | iter 1600/10000 | loss: 0.2475 |\n",
      "| epoch 2 | iter 1700/10000 | loss: 0.3187 |\n",
      "| epoch 2 | iter 1800/10000 | loss: 0.2793 |\n",
      "========= train accuracy : 0.9368833333333333 / test accuracy : 0.9374 =========\n",
      "| epoch 3 | iter 1900/10000 | loss: 0.1634 |\n",
      "| epoch 3 | iter 2000/10000 | loss: 0.2751 |\n",
      "| epoch 3 | iter 2100/10000 | loss: 0.1853 |\n",
      "| epoch 3 | iter 2200/10000 | loss: 0.2975 |\n",
      "| epoch 3 | iter 2300/10000 | loss: 0.1358 |\n",
      "| epoch 3 | iter 2400/10000 | loss: 0.1425 |\n",
      "========= train accuracy : 0.9437666666666666 / test accuracy : 0.9424 =========\n",
      "| epoch 4 | iter 2500/10000 | loss: 0.1645 |\n",
      "| epoch 4 | iter 2600/10000 | loss: 0.2291 |\n",
      "| epoch 4 | iter 2700/10000 | loss: 0.2333 |\n",
      "| epoch 4 | iter 2800/10000 | loss: 0.1799 |\n",
      "| epoch 4 | iter 2900/10000 | loss: 0.1513 |\n",
      "| epoch 4 | iter 3000/10000 | loss: 0.1806 |\n",
      "========= train accuracy : 0.9527166666666667 / test accuracy : 0.9504 =========\n",
      "| epoch 5 | iter 3100/10000 | loss: 0.0813 |\n",
      "| epoch 5 | iter 3200/10000 | loss: 0.1005 |\n",
      "| epoch 5 | iter 3300/10000 | loss: 0.1156 |\n",
      "| epoch 5 | iter 3400/10000 | loss: 0.1429 |\n",
      "| epoch 5 | iter 3500/10000 | loss: 0.1885 |\n",
      "| epoch 5 | iter 3600/10000 | loss: 0.1693 |\n",
      "========= train accuracy : 0.95815 / test accuracy : 0.9557 =========\n",
      "| epoch 6 | iter 3700/10000 | loss: 0.1133 |\n",
      "| epoch 6 | iter 3800/10000 | loss: 0.0853 |\n",
      "| epoch 6 | iter 3900/10000 | loss: 0.2613 |\n",
      "| epoch 6 | iter 4000/10000 | loss: 0.1012 |\n",
      "| epoch 6 | iter 4100/10000 | loss: 0.0773 |\n",
      "| epoch 6 | iter 4200/10000 | loss: 0.0523 |\n",
      "========= train accuracy : 0.96265 / test accuracy : 0.9598 =========\n",
      "| epoch 7 | iter 4300/10000 | loss: 0.2782 |\n",
      "| epoch 7 | iter 4400/10000 | loss: 0.1327 |\n",
      "| epoch 7 | iter 4500/10000 | loss: 0.2221 |\n",
      "| epoch 7 | iter 4600/10000 | loss: 0.0890 |\n",
      "| epoch 7 | iter 4700/10000 | loss: 0.1990 |\n",
      "| epoch 7 | iter 4800/10000 | loss: 0.1378 |\n",
      "========= train accuracy : 0.9659166666666666 / test accuracy : 0.9629 =========\n",
      "| epoch 8 | iter 4900/10000 | loss: 0.1235 |\n",
      "| epoch 8 | iter 5000/10000 | loss: 0.1864 |\n",
      "| epoch 8 | iter 5100/10000 | loss: 0.1759 |\n",
      "| epoch 8 | iter 5200/10000 | loss: 0.0498 |\n",
      "| epoch 8 | iter 5300/10000 | loss: 0.0824 |\n",
      "| epoch 8 | iter 5400/10000 | loss: 0.1514 |\n",
      "========= train accuracy : 0.9683166666666667 / test accuracy : 0.9633 =========\n",
      "| epoch 9 | iter 5500/10000 | loss: 0.2014 |\n",
      "| epoch 9 | iter 5600/10000 | loss: 0.1347 |\n",
      "| epoch 9 | iter 5700/10000 | loss: 0.0396 |\n",
      "| epoch 9 | iter 5800/10000 | loss: 0.1967 |\n",
      "| epoch 9 | iter 5900/10000 | loss: 0.1108 |\n",
      "| epoch 9 | iter 6000/10000 | loss: 0.0496 |\n",
      "========= train accuracy : 0.9698833333333333 / test accuracy : 0.966 =========\n",
      "| epoch 10 | iter 6100/10000 | loss: 0.1541 |\n",
      "| epoch 10 | iter 6200/10000 | loss: 0.0678 |\n",
      "| epoch 10 | iter 6300/10000 | loss: 0.1094 |\n",
      "| epoch 10 | iter 6400/10000 | loss: 0.0935 |\n",
      "| epoch 10 | iter 6500/10000 | loss: 0.0986 |\n",
      "| epoch 10 | iter 6600/10000 | loss: 0.0676 |\n",
      "========= train accuracy : 0.9723333333333334 / test accuracy : 0.9669 =========\n",
      "| epoch 11 | iter 6700/10000 | loss: 0.1247 |\n",
      "| epoch 11 | iter 6800/10000 | loss: 0.1369 |\n",
      "| epoch 11 | iter 6900/10000 | loss: 0.1084 |\n",
      "| epoch 11 | iter 7000/10000 | loss: 0.1111 |\n",
      "| epoch 11 | iter 7100/10000 | loss: 0.0781 |\n",
      "| epoch 11 | iter 7200/10000 | loss: 0.1146 |\n",
      "========= train accuracy : 0.97515 / test accuracy : 0.9688 =========\n",
      "| epoch 12 | iter 7300/10000 | loss: 0.0593 |\n",
      "| epoch 12 | iter 7400/10000 | loss: 0.1446 |\n",
      "| epoch 12 | iter 7500/10000 | loss: 0.1448 |\n",
      "| epoch 12 | iter 7600/10000 | loss: 0.0618 |\n",
      "| epoch 12 | iter 7700/10000 | loss: 0.0813 |\n",
      "| epoch 12 | iter 7800/10000 | loss: 0.0783 |\n",
      "========= train accuracy : 0.97595 / test accuracy : 0.969 =========\n",
      "| epoch 13 | iter 7900/10000 | loss: 0.0745 |\n",
      "| epoch 13 | iter 8000/10000 | loss: 0.0334 |\n",
      "| epoch 13 | iter 8100/10000 | loss: 0.0312 |\n",
      "| epoch 13 | iter 8200/10000 | loss: 0.1277 |\n",
      "| epoch 13 | iter 8300/10000 | loss: 0.0548 |\n",
      "| epoch 13 | iter 8400/10000 | loss: 0.0737 |\n",
      "========= train accuracy : 0.9780333333333333 / test accuracy : 0.9701 =========\n",
      "| epoch 14 | iter 8500/10000 | loss: 0.0221 |\n",
      "| epoch 14 | iter 8600/10000 | loss: 0.0597 |\n",
      "| epoch 14 | iter 8700/10000 | loss: 0.0834 |\n",
      "| epoch 14 | iter 8800/10000 | loss: 0.0784 |\n",
      "| epoch 14 | iter 8900/10000 | loss: 0.0885 |\n",
      "| epoch 14 | iter 9000/10000 | loss: 0.0250 |\n",
      "========= train accuracy : 0.9791666666666666 / test accuracy : 0.9712 =========\n",
      "| epoch 15 | iter 9100/10000 | loss: 0.0987 |\n",
      "| epoch 15 | iter 9200/10000 | loss: 0.0726 |\n",
      "| epoch 15 | iter 9300/10000 | loss: 0.1047 |\n",
      "| epoch 15 | iter 9400/10000 | loss: 0.0367 |\n",
      "| epoch 15 | iter 9500/10000 | loss: 0.1403 |\n",
      "| epoch 15 | iter 9600/10000 | loss: 0.0426 |\n",
      "========= train accuracy : 0.9799333333333333 / test accuracy : 0.9708 =========\n",
      "| epoch 16 | iter 9700/10000 | loss: 0.1503 |\n",
      "| epoch 16 | iter 9800/10000 | loss: 0.0304 |\n",
      "| epoch 16 | iter 9900/10000 | loss: 0.0481 |\n",
      "| epoch 16 | iter 10000/10000 | loss: 0.0850 |\n",
      "========= train accuracy : 0.9809333333333333 / test accuracy : 0.9722 =========\n"
     ]
    }
   ],
   "source": [
    "iters_num = 10000\n",
    "train_size = x_train.shape[0]\n",
    "batch_size = 100\n",
    "lr = 0.1\n",
    "\n",
    "network = TwoLayerNet(input_size=784, hidden_size=50, output_size=10)\n",
    "\n",
    "train_loss_list = []\n",
    "train_accuracy_list = []\n",
    "test_accuracy_list = []\n",
    "\n",
    "iter_per_epoch = ceil(train_size / batch_size)\n",
    "epochs_num = ceil(iters_num / iter_per_epoch)\n",
    "\n",
    "def shuffle_data(x, t):\n",
    "    x_dim = x.shape[1]\n",
    "    xt_concat = np.concatenate([x, t], axis=1)\n",
    "    \n",
    "    np.random.shuffle(xt_concat)\n",
    "    \n",
    "    x_shuffled = xt_concat[:, :x_dim]\n",
    "    t_shuffled = xt_concat[:, x_dim:]\n",
    "    \n",
    "    return x_shuffled, t_shuffled\n",
    "\n",
    "network = TwoLayerNet(input_size=784, hidden_size=50, output_size=10)\n",
    "\n",
    "cur_iter = 1\n",
    "for epoch in range(epochs_num):\n",
    "    # 셔플\n",
    "    x_train_shuffled, t_train_shuffled = shuffle_data(x_train, t_train)\n",
    "    offset = 0\n",
    "\n",
    "    # 배치 수\n",
    "    for i in range(iter_per_epoch):\n",
    "        if cur_iter > iters_num:\n",
    "            break  # iteration 수를 채우면 종료\n",
    "\n",
    "        # 미니배치 추출\n",
    "        x_batch = x_train_shuffled[offset:offset+batch_size]\n",
    "        t_batch = t_train_shuffled[offset:offset+batch_size]\n",
    "\n",
    "        grads = network.gradient(x_batch, t_batch)\n",
    "        loss = network.loss(x_batch, t_batch)\n",
    "        if cur_iter%100 == 0:\n",
    "            print(f\"| epoch {epoch} | iter {cur_iter}/{iters_num} | loss: {loss:.4f} |\")\n",
    "\n",
    "        for key in network.params.keys():\n",
    "            network.params[key] -= lr * grads[key]\n",
    "\n",
    "        train_loss_list.append(loss)\n",
    "        cur_iter += 1\n",
    "        offset += batch_size\n",
    "    \n",
    "    train_accuracy = network.accuracy(x_train, t_train)\n",
    "    train_accuracy_list.append(train_accuracy)\n",
    "    test_accuracy = network.accuracy(x_test, t_test)\n",
    "    test_accuracy_list.append(test_accuracy)\n",
    "    print(f\"====== train accuracy : {train_accuracy} / test accuracy : {test_accuracy} ======\")\n",
    "    \n",
    "    if cur_iter > iters_num:\n",
    "        break  # 에폭 루프도 종료\n",
    "    "
   ]
  },
  {
   "cell_type": "code",
   "execution_count": 54,
   "metadata": {},
   "outputs": [
    {
     "data": {
      "image/png": "[encoded data removed]",
      "text/plain": [
       "<Figure size 600x400 with 1 Axes>"
      ]
     },
     "metadata": {},
     "output_type": "display_data"
    }
   ],
   "source": [
    "import matplotlib.pyplot as plt\n",
    "import numpy as np\n",
    "\n",
    "x = np.arange(1, len(train_accuracy_list) + 1)\n",
    "\n",
    "plt.figure(figsize=(6, 4))\n",
    "\n",
    "plt.plot(x, train_accuracy_list, label='Train Accuracy', linestyle='--', color='green')\n",
    "plt.plot(x, test_accuracy_list, label='Test Accuracy', linestyle='--', color='orange')\n",
    "\n",
    "plt.xlabel('Epoch')\n",
    "plt.ylabel('Accuracy')\n",
    "plt.title('Train vs Test Accuracy per Epoch')\n",
    "plt.ylim(0.9, 1)\n",
    "plt.xticks(x)\n",
    "plt.grid(True)\n",
    "plt.legend()\n",
    "plt.tight_layout()\n",
    "plt.show()\n"
   ]
  },
  {
   "cell_type": "code",
   "execution_count": null,
   "metadata": {},
   "outputs": [],
   "source": [
    "class MulLayer:\n",
    "    def __init__(self):\n",
    "        self.x = None\n",
    "        self.y = None\n",
    "        \n",
    "    def forward(self, x, y):\n",
    "        self.x = x\n",
    "        self.y = y\n",
    "        \n",
    "        return self.x * self.y\n",
    "\n",
    "    def backward(self, dz):\n",
    "        grads = {}\n",
    "        grads[\"x\"] = dz * self.y\n",
    "        grads[\"y\"] = dz * self.x\n",
    "        \n",
    "        return grads\n",
    "        \n",
    "\n",
    "class AddLayer:\n",
    "    def __init__(self):\n",
    "        self.x = None\n",
    "        self.y = None\n",
    "        \n",
    "    def forward(self, x, y):\n",
    "        self.x = x\n",
    "        self.y = y\n",
    "        \n",
    "        return self.x + self.y\n",
    "\n",
    "    def backward(self, dz):\n",
    "        grads = {}\n",
    "        grads[\"x\"] = dz\n",
    "        grads[\"y\"] = dz\n",
    "        \n",
    "        return grads"
   ]
  },
  {
   "cell_type": "code",
   "execution_count": null,
   "metadata": {},
   "outputs": [
    {
     "name": "stdout",
     "output_type": "stream",
     "text": [
      "100 2\n",
      "200 1.1\n",
      "200 220.00000000000003\n"
     ]
    }
   ],
   "source": [
    "apple = 100\n",
    "apple_num = 2\n",
    "tax = 1.1\n",
    "\n",
    "mul_apple_layer = MulLayer()\n",
    "mul_tax_layer = MulLayer()\n",
    "\n",
    "apple_price = mul_apple_layer.forward(apple, apple_num)\n",
    "price = mul_tax_layer.forward(apple_price, tax)\n",
    "\n",
    "print(mul_apple_layer.x, mul_apple_layer.y)\n",
    "print(mul_tax_layer.x, mul_tax_layer.y)\n",
    "print(apple_price, price)"
   ]
  },
  {
   "cell_type": "code",
   "execution_count": null,
   "metadata": {},
   "outputs": [
    {
     "name": "stdout",
     "output_type": "stream",
     "text": [
      "715.0000000000001\n",
      "110.00000000000001 2.2 3.3000000000000003 165.0 650\n"
     ]
    }
   ],
   "source": [
    "apple = 100\n",
    "apple_num = 2\n",
    "orange = 150\n",
    "orange_num = 3\n",
    "tax = 1.1\n",
    "\n",
    "mul_apple_layer = MulLayer()\n",
    "mul_orange_layer = MulLayer()\n",
    "add_apple_orange_layer = AddLayer()\n",
    "mul_tax_layer = MulLayer()\n",
    "\n",
    "apple_price = mul_apple_layer.forward(apple, apple_num)\n",
    "orange_price = mul_orange_layer.forward(orange, orange_num)\n",
    "all_price = add_apple_orange_layer.forward(apple_price, orange_price)\n",
    "price = mul_tax_layer.forward(all_price, tax)\n",
    "\n",
    "dprice = 1\n",
    "dall_price, dtax = mul_tax_layer.backward(dprice).values()\n",
    "dapple_price, dorange_price = add_apple_orange_layer.backward(dall_price).values()\n",
    "dapple, dapple_num = mul_apple_layer.backward(dapple_price).values()\n",
    "dorange, dorange_num = mul_orange_layer.backward(dorange_price).values()\n",
    "\n",
    "print(price)\n",
    "print(dapple_num, dapple, dorange, dorange_num, dtax)\n"
   ]
  },
  {
   "cell_type": "code",
   "execution_count": null,
   "metadata": {},
   "outputs": [],
   "source": [
    "class ReLU:\n",
    "    def __init__(self):\n",
    "        self.x = None\n",
    "        \n",
    "    def forward(self, x):\n",
    "        self.x = x\n",
    "        return (x > 0)*x\n",
    "    \n",
    "    def backward(self, dz):\n",
    "        return (dz > 0).astype(int)\n",
    "    "
   ]
  },
  {
   "cell_type": "code",
   "execution_count": null,
   "metadata": {},
   "outputs": [
    {
     "data": {
      "text/plain": [
       "array([[1, 1, 0],\n",
       "       [1, 0, 1]])"
      ]
     },
     "execution_count": 11,
     "metadata": {},
     "output_type": "execute_result"
    }
   ],
   "source": [
    "import numpy as np\n",
    "\n",
    "x = np.array([[1, 2, -3], [1, -2, 3]])\n",
    "relu = ReLU()\n",
    "relu.forward(x)\n",
    "relu.backward(x)"
   ]
  },
  {
   "cell_type": "code",
   "execution_count": null,
   "metadata": {},
   "outputs": [
    {
     "data": {
      "text/plain": [
       "array([[ 1. , -2. ],\n",
       "       [-0.5,  3. ]])"
      ]
     },
     "execution_count": 226,
     "metadata": {},
     "output_type": "execute_result"
    }
   ],
   "source": [
    "x = np.array([[1.0, -0.5], [-2.0, 3.0]])\n",
    "x.T"
   ]
  },
  {
   "cell_type": "code",
   "execution_count": null,
   "metadata": {},
   "outputs": [
    {
     "data": {
      "text/plain": [
       "array([[False,  True],\n",
       "       [ True, False]])"
      ]
     },
     "execution_count": 227,
     "metadata": {},
     "output_type": "execute_result"
    }
   ],
   "source": [
    "mask = (x<=0)\n",
    "mask"
   ]
  },
  {
   "cell_type": "code",
   "execution_count": null,
   "metadata": {},
   "outputs": [],
   "source": [
    "class Sigmoid:\n",
    "    def __init__(self):\n",
    "        self.x = None\n",
    "        self.y = None\n",
    "        \n",
    "    def forward(self, x):\n",
    "        self.x = x\n",
    "        self.y = 1 / (1 + np.exp(-self.x))\n",
    "        return self.y\n",
    "    \n",
    "    def backward(self, dz):\n",
    "        return dz * self.y *(1 - self.y)"
   ]
  },
  {
   "cell_type": "code",
   "execution_count": null,
   "metadata": {},
   "outputs": [],
   "source": [
    "class Affine:\n",
    "    def __init__(self, W, b):\n",
    "        self.W = W\n",
    "        self.b = b\n",
    "        self.X = None\n",
    "    def forward(self, X):\n",
    "        self.X = X        \n",
    "        return np.dot(X, self.W) + self.b\n",
    "    \n",
    "    def backward(self, dz):\n",
    "        grads = {}\n",
    "        grads[\"W\"] = np.dot(self.X.T, dz)\n",
    "        grads[\"X\"] = np.dot(dz, self.W.T)\n",
    "        grads[\"b\"] = np.sum(dz, axis=0)\n",
    "        \n",
    "        return grads"
   ]
  },
  {
   "cell_type": "code",
   "execution_count": null,
   "metadata": {},
   "outputs": [],
   "source": [
    "class Softmax_with_Loss:\n",
    "    def __init__(self):\n",
    "        self.y = None\n",
    "        self.t = None\n",
    "        \n",
    "    def forward(self, X, t):\n",
    "        self.y = softmax(X)\n",
    "        self.t = t\n",
    "        loss = CEE(self.y, self.t)\n",
    "        \n",
    "        return loss\n",
    "    \n",
    "    def backward(self):\n",
    "        return (self.y - self.t)/self.t.shape[0]"
   ]
  },
  {
   "cell_type": "code",
   "execution_count": null,
   "metadata": {},
   "outputs": [
    {
     "data": {
      "text/plain": [
       "(array([[0.15130796, 0.13690911, 0.18480796],\n",
       "        [0.11321824, 0.30166504, 0.1120917 ]]),\n",
       " array([[ 0.15130796, -0.86309089,  0.18480796],\n",
       "        [ 0.11321824, -0.69833496,  0.1120917 ]]))"
      ]
     },
     "execution_count": 236,
     "metadata": {},
     "output_type": "execute_result"
    }
   ],
   "source": [
    "l = Softmax_with_Loss()\n",
    "\n",
    "X = np.array([[0.3, 0.2, 0.5], [0.01, 0.99, 0.0]])\n",
    "t = np.array([[0, 1, 0], [0, 1, 0]])\n",
    "l.forward(X, t)\n",
    "softmax(X), l.backward()\n"
   ]
  },
  {
   "cell_type": "code",
   "execution_count": 29,
   "metadata": {},
   "outputs": [],
   "source": [
    "import numpy as np\n",
    "from collections import OrderedDict\n",
    "\n",
    "def sigmoid(x):\n",
    "    return 1 / (1 + np.exp(-x))\n",
    "\n",
    "#def softmax(x):\n",
    "#        c = np.max(x)\n",
    "#        exp_x = np.exp(x - c)\n",
    "#        sum_exp_x = np.sum(exp_x)\n",
    "#        y = exp_x / sum_exp_x\n",
    "#        \n",
    "#        return y\n",
    " \n",
    "def softmax(x):\n",
    "    if x.ndim == 2:\n",
    "        c = np.max(x, axis=1, keepdims=True)\n",
    "        exp_x = np.exp(x - c)\n",
    "        sum_exp_x = np.sum(exp_x, axis=1, keepdims=True)\n",
    "        return exp_x / sum_exp_x\n",
    "    else:\n",
    "        c = np.max(x)\n",
    "        exp_x = np.exp(x - c)\n",
    "        return exp_x / np.sum(exp_x)\n",
    "       \n",
    "def CEE(y, t):\n",
    "    if y.ndim == 1:\n",
    "        t = t.reshape(1, t.size)\n",
    "        y = y.reshape(1, y.size)\n",
    "        \n",
    "    batch_size = y.shape[0]\n",
    "    \n",
    "    return -np.sum(t * np.log(y + 1e-7)) / batch_size\n",
    "\n",
    "def gradient(f, x):\n",
    "    h = 0.0001\n",
    "\n",
    "    shape = x.shape\n",
    "    x_flatten = x.reshape(-1)\n",
    "    size = len(x_flatten)\n",
    "\n",
    "    grad = np.zeros_like(x_flatten)\n",
    "\n",
    "    for i in range(size):\n",
    "        x_val = x_flatten[i]\n",
    "\n",
    "        x_flatten[i] = x_val + h\n",
    "        fxh1 = f(x_flatten.reshape(shape))\n",
    "\n",
    "        x_flatten[i] = x_val - h\n",
    "        fxh2 = f(x_flatten.reshape(shape))\n",
    "\n",
    "        grad[i] = (fxh1 - fxh2) / (2*h)\n",
    "\n",
    "        x_flatten[i] = x_val\n",
    "        \n",
    "    return grad.reshape(shape)\n",
    "\n",
    "class ReLU:\n",
    "    def __init__(self):\n",
    "        self.x = None\n",
    "        \n",
    "    def forward(self, x):\n",
    "        self.x = x\n",
    "        return (x > 0)*x\n",
    "    \n",
    "    def backward(self, dz):\n",
    "        return dz*(self.x > 0).astype(int)\n",
    "    \n",
    "class Sigmoid:\n",
    "    def __init__(self):\n",
    "        self.x = None\n",
    "        self.y = None\n",
    "        \n",
    "    def forward(self, x):\n",
    "        self.x = x\n",
    "        self.y = 1 / (1 + np.exp(-self.x))\n",
    "        return self.y\n",
    "    \n",
    "    def backward(self, dz):\n",
    "        return dz * self.y *(1 - self.y)\n",
    "    \n",
    "class Affine:\n",
    "    def __init__(self, W, b):\n",
    "        self.W = W\n",
    "        self.b = b\n",
    "        self.X = None \n",
    "        \n",
    "    def forward(self, X):\n",
    "        self.X = X        \n",
    "        return np.dot(X, self.W) + self.b\n",
    "    \n",
    "    def backward(self, dz):\n",
    "        grads = {}\n",
    "        grads[\"W\"] = np.dot(self.X.T, dz)\n",
    "        grads[\"X\"] = np.dot(dz, self.W.T)\n",
    "        grads[\"b\"] = np.sum(dz, axis=0)\n",
    "        \n",
    "        return grads\n",
    "\n",
    "class Softmax_with_Loss:\n",
    "    def __init__(self):\n",
    "        self.y = None\n",
    "        self.t = None\n",
    "        \n",
    "    def forward(self, X, t):\n",
    "        self.y = softmax(X)\n",
    "        self.t = t\n",
    "        loss = CEE(self.y, self.t)\n",
    "        \n",
    "        return loss\n",
    "    \n",
    "    def backward(self):\n",
    "        batch_size = self.t.shape[0]\n",
    "        return (self.y - self.t) / batch_size\n",
    "    \n",
    "class TwoLayerNet:\n",
    "    def __init__(self, input_size, hidden_size, output_size):\n",
    "        self.params = {}\n",
    "        # layer 1\n",
    "        self.params[\"W1\"] = 0.01 * np.random.randn(input_size,hidden_size)\n",
    "        self.params[\"B1\"] = 0.01 * np.random.randn(hidden_size)\n",
    "        #layer 2\n",
    "        self.params[\"W2\"] = 0.01 * np.random.randn(hidden_size,output_size)\n",
    "        self.params[\"B2\"] = 0.01 * np.random.randn(output_size)\n",
    "        \n",
    "        self.layer = OrderedDict()\n",
    "        self.layer[\"Affine1\"] = Affine(self.params[\"W1\"], self.params[\"B1\"])\n",
    "        self.layer[\"ReLU1\"] = ReLU()\n",
    "        self.layer[\"Affine2\"] = Affine(self.params[\"W2\"], self.params[\"B2\"])\n",
    "        \n",
    "        self.last_layer = Softmax_with_Loss()\n",
    "        \n",
    "    def predict(self, X):\n",
    "        h = self.layer[\"Affine1\"].forward(X)\n",
    "        h = self.layer[\"ReLU1\"].forward(h)\n",
    "        y = self.layer[\"Affine2\"].forward(h)\n",
    "        \n",
    "        return y\n",
    "        \n",
    "    def loss(self, x, t):\n",
    "        y = self.predict(x)\n",
    "        loss = self.last_layer.forward(y, t)\n",
    "        return loss\n",
    "    \n",
    "    def accuracy(self, x, t):\n",
    "        Y = self.predict(x)\n",
    "        predict_label = np.argmax(Y, axis=1)\n",
    "        target_label = np.argmax(t, axis=1)\n",
    "        return np.sum(predict_label == target_label) / len(predict_label)\n",
    "    \n",
    "    def numerical_gradient(self, x, t):\n",
    "        grads = {}\n",
    "\n",
    "        for key in self.params:\n",
    "            original_param = self.params[key]\n",
    "\n",
    "            def loss_func(param):\n",
    "                self.params[key][...] = param\n",
    "                y = self.predict(x)\n",
    "                return self.last_layer.forward(y, t)\n",
    "\n",
    "            h = 1e-4\n",
    "            shape = original_param.shape\n",
    "            param_flat = original_param.reshape(-1)\n",
    "            grad = np.zeros_like(param_flat)\n",
    "\n",
    "            for i in range(len(param_flat)):\n",
    "                tmp_val = param_flat[i]\n",
    "\n",
    "                param_flat[i] = tmp_val + h\n",
    "                fxh1 = loss_func(param_flat.reshape(shape))\n",
    "\n",
    "                param_flat[i] = tmp_val - h\n",
    "                fxh2 = loss_func(param_flat.reshape(shape))\n",
    "\n",
    "                grad[i] = (fxh1 - fxh2) / (2 * h)\n",
    "\n",
    "                param_flat[i] = tmp_val\n",
    "\n",
    "            grads[key] = grad.reshape(shape)\n",
    "            #self.params[key] = original_param\n",
    "        return grads\n",
    "    \n",
    "    def gradient(self, x, t):\n",
    "        loss = self.loss(x, t)\n",
    "        grads = {}\n",
    "        \n",
    "        dout = self.last_layer.backward()\n",
    "        temp_grads = self.layer[\"Affine2\"].backward(dout)\n",
    "        grads[\"W2\"] = temp_grads[\"W\"]\n",
    "        grads[\"B2\"] = temp_grads[\"b\"]\n",
    "        dout = temp_grads[\"X\"]\n",
    "        \n",
    "        dout = self.layer[\"ReLU1\"].backward(dout)\n",
    "        \n",
    "        temp_grads = self.layer[\"Affine1\"].backward(dout)\n",
    "        grads[\"W1\"] = temp_grads[\"W\"]\n",
    "        grads[\"B1\"] = temp_grads[\"b\"]\n",
    "        \n",
    "        return grads"
   ]
  },
  {
   "cell_type": "code",
   "execution_count": 30,
   "metadata": {},
   "outputs": [
    {
     "name": "stdout",
     "output_type": "stream",
     "text": [
      "W1:4.574481669645111e-10\n",
      "B1:2.76007612425239e-09\n",
      "W2:6.115560878207219e-09\n",
      "B2:1.391451577598124e-07\n"
     ]
    }
   ],
   "source": [
    "import numpy as np\n",
    "from dataset.mnist import load_mnist\n",
    "\n",
    "(x_train, t_train), (x_test, t_test) = load_mnist(normalize=True, one_hot_label=True)\n",
    "\n",
    "network = TwoLayerNet(input_size=784, hidden_size=50, output_size=10)\n",
    "\n",
    "x_batch = x_train[:3]\n",
    "t_batch = t_train[:3]\n",
    "\n",
    "grad_numerical = network.numerical_gradient(x_batch, t_batch)\n",
    "grad_backprop = network.gradient(x_batch, t_batch)\n",
    "\n",
    "for key in grad_numerical.keys():\n",
    "    diff = np.average(np.abs(grad_backprop[key] - grad_numerical[key]))\n",
    "    print(key + \":\" + str(diff))"
   ]
  },
  {
   "cell_type": "markdown",
   "metadata": {},
   "source": [
    "weight 초기화 문제"
   ]
  },
  {
   "cell_type": "code",
   "execution_count": null,
   "metadata": {},
   "outputs": [],
   "source": []
  }
 ],
 "metadata": {
  "kernelspec": {
   "display_name": "base",
   "language": "python",
   "name": "python3"
  },
  "language_info": {
   "codemirror_mode": {
    "name": "ipython",
    "version": 3
   },
   "file_extension": ".py",
   "mimetype": "text/x-python",
   "name": "python",
   "nbconvert_exporter": "python",
   "pygments_lexer": "ipython3",
   "version": "3.12.7"
  }
 },
 "nbformat": 4,
 "nbformat_minor": 2
}
