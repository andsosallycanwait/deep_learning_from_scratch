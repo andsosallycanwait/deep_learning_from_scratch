{
 "cells": [
  {
   "cell_type": "code",
   "execution_count": 3,
   "metadata": {},
   "outputs": [],
   "source": [
    "import numpy as np\n",
    "import matplotlib.pyplot as plt"
   ]
  },
  {
   "cell_type": "code",
   "execution_count": 103,
   "metadata": {},
   "outputs": [],
   "source": [
    "# sum of squares for error\n",
    "def SSE(y, t):\n",
    "    return (np.sum((y-t)**2))/2"
   ]
  },
  {
   "cell_type": "code",
   "execution_count": 104,
   "metadata": {},
   "outputs": [
    {
     "name": "stdout",
     "output_type": "stream",
     "text": [
      "0.09750000000000003\n",
      "0.5975\n"
     ]
    }
   ],
   "source": [
    "t = np.array([0, 0, 1, 0, 0, 0, 0, 0, 0, 0])\n",
    "y = np.array([0.1, 0.05, 0.6, 0.0, 0.05, 0.1, 0.0, 0.1, 0.0, 0.0])\n",
    "\n",
    "print(SSE(y, t))\n",
    "\n",
    "y = np.array([0.1, 0.05, 0.1, 0.0, 0.05, 0.1, 0.0, 0.6, 0.0, 0.0])\n",
    "print(SSE(y, t))"
   ]
  },
  {
   "cell_type": "code",
   "execution_count": 110,
   "metadata": {},
   "outputs": [],
   "source": [
    "# Cross entropy error\n",
    "def CEE(y, t):\n",
    "    return -(np.sum(t*np.log(y+1e-8)))"
   ]
  },
  {
   "cell_type": "code",
   "execution_count": 106,
   "metadata": {},
   "outputs": [
    {
     "name": "stdout",
     "output_type": "stream",
     "text": [
      "0.5108256070993241\n",
      "2.3025849929940505\n"
     ]
    }
   ],
   "source": [
    "t = np.array([0, 0, 1, 0, 0, 0, 0, 0, 0, 0])\n",
    "y = np.array([0.1, 0.05, 0.6, 0.0, 0.05, 0.1, 0.0, 0.1, 0.0, 0.0])\n",
    "\n",
    "print(CEE(y, t))\n",
    "\n",
    "y = np.array([0.1, 0.05, 0.1, 0.0, 0.05, 0.1, 0.0, 0.6, 0.0, 0.0])\n",
    "print(CEE(y, t))"
   ]
  },
  {
   "cell_type": "code",
   "execution_count": 107,
   "metadata": {},
   "outputs": [
    {
     "name": "stdout",
     "output_type": "stream",
     "text": [
      "(60000, 784)\n",
      "(60000, 10)\n",
      "(10000, 784)\n",
      "(10000, 10)\n"
     ]
    }
   ],
   "source": [
    "from dataset.mnist import load_mnist\n",
    "\n",
    "(x_train, t_train), (x_test, t_test) = load_mnist(normalize=True, one_hot_label=True)\n",
    "\n",
    "print(x_train.shape)\n",
    "print(t_train.shape)\n",
    "print(x_test.shape)\n",
    "print(t_test.shape)"
   ]
  },
  {
   "cell_type": "code",
   "execution_count": 108,
   "metadata": {},
   "outputs": [
    {
     "data": {
      "text/plain": [
       "array([[2, 4, 7, 0]])"
      ]
     },
     "execution_count": 108,
     "metadata": {},
     "output_type": "execute_result"
    }
   ],
   "source": [
    "y = np.array([[0, 0, 1, 0, 0, 0, 0, 0, 0, 0],\n",
    "              [0, 0, 0, 0, 1, 0, 0, 0, 0, 0],\n",
    "              [0, 0, 0, 0, 0, 0, 0, 1, 0, 0],\n",
    "              [1, 0, 0, 0, 0, 0, 0, 0, 0, 0]])\n",
    "\n",
    "t = np.array([2, 4, 7, 0])\n",
    "\n",
    "t.reshape(1, -1)"
   ]
  },
  {
   "cell_type": "code",
   "execution_count": 109,
   "metadata": {},
   "outputs": [],
   "source": [
    "def CEE(y, t):\n",
    "    if y.ndim == 1:\n",
    "        y = y.reshape(1, -1)\n",
    "        t = t.reshape(1)\n",
    "    \n",
    "    if t.ndim == 1:\n",
    "        return -np.sum(np.log(y[np.arange(len(t)), t] + 1e-7)) / len(t)\n",
    "    else:\n",
    "        return -np.sum(t * np.log(y + 1e-7)) / y.shape[0]"
   ]
  },
  {
   "cell_type": "code",
   "execution_count": 30,
   "metadata": {},
   "outputs": [
    {
     "name": "stdout",
     "output_type": "stream",
     "text": [
      "2\n"
     ]
    },
    {
     "ename": "IndexError",
     "evalue": "shape mismatch: indexing arrays could not be broadcast together with shapes (2,) (2,5) ",
     "output_type": "error",
     "traceback": [
      "\u001b[1;31m---------------------------------------------------------------------------\u001b[0m",
      "\u001b[1;31mIndexError\u001b[0m                                Traceback (most recent call last)",
      "Cell \u001b[1;32mIn[30], line 6\u001b[0m\n\u001b[0;32m      4\u001b[0m batch_size \u001b[38;5;241m=\u001b[39m y\u001b[38;5;241m.\u001b[39mshape[\u001b[38;5;241m0\u001b[39m]\n\u001b[0;32m      5\u001b[0m \u001b[38;5;28mprint\u001b[39m(batch_size)\n\u001b[1;32m----> 6\u001b[0m \u001b[43my\u001b[49m\u001b[43m[\u001b[49m\u001b[43mnp\u001b[49m\u001b[38;5;241;43m.\u001b[39;49m\u001b[43marange\u001b[49m\u001b[43m(\u001b[49m\u001b[43mbatch_size\u001b[49m\u001b[43m)\u001b[49m\u001b[43m,\u001b[49m\u001b[43m \u001b[49m\u001b[43mt\u001b[49m\u001b[43m]\u001b[49m\n",
      "\u001b[1;31mIndexError\u001b[0m: shape mismatch: indexing arrays could not be broadcast together with shapes (2,) (2,5) "
     ]
    }
   ],
   "source": [
    "y = np.array([[3, 0, 2, 1, 1], [2, 8, 6, 4, 3]])\n",
    "t = np.array([[3, 8, 2, 1, 7], [2, 8, 6, 4, 5]])\n",
    "\n",
    "batch_size = y.shape[0]\n",
    "print(batch_size)\n",
    "y[np.arange(batch_size), t]"
   ]
  },
  {
   "cell_type": "code",
   "execution_count": 50,
   "metadata": {},
   "outputs": [],
   "source": [
    "# 수치 미분(단일)\n",
    "def numerical_diff(f, x):\n",
    "    h = 1e-4\n",
    "    grad = np.zeros_like(x)\n",
    "    \n",
    "    tmp_val = x\n",
    "    fxh1 = f(tmp_val + h)\n",
    "    fxh2 = f(tmp_val - h)\n",
    "    \n",
    "    grad = (fxh1 - fxh2) / (2*h)\n",
    "        \n",
    "    return grad"
   ]
  },
  {
   "cell_type": "code",
   "execution_count": 51,
   "metadata": {},
   "outputs": [
    {
     "name": "stdout",
     "output_type": "stream",
     "text": [
      "0.1999999999990898\n",
      "0.2999999999986347\n"
     ]
    },
    {
     "data": {
      "image/png": "[encoded data removed]",
      "text/plain": [
       "<Figure size 640x480 with 1 Axes>"
      ]
     },
     "metadata": {},
     "output_type": "display_data"
    }
   ],
   "source": [
    "# y = 0.01x² + 0.1x\n",
    "def function_1(x):\n",
    "    return 0.01*x**2 + 0.1*x\n",
    "\n",
    "x = np.arange(0.0, 20.0, 0.1)  # 0에서 20까지 간격 0.1인 배열 x를 만든다.\n",
    "y = function_1(x)\n",
    "plt.xlabel(\"x\")\n",
    "plt.ylabel(\"f(x)\")\n",
    "plt.plot(x, y)\n",
    "# plt.show()\n",
    "\n",
    "# x = 5, 10일때 미분\n",
    "print(numerical_diff(function_1, 5))   # 0.200000000000089\n",
    "print(numerical_diff(function_1, 10))  # 0.29999999999996696"
   ]
  },
  {
   "cell_type": "code",
   "execution_count": 64,
   "metadata": {},
   "outputs": [],
   "source": [
    "def numerical_gradient(f, x):\n",
    "    h = 1e-8\n",
    "    grad = np.zeros_like(x)\n",
    "    \n",
    "    for i in range(len(x)):\n",
    "        tmp_val = x[i]\n",
    "        \n",
    "        x[i] = tmp_val + h\n",
    "        fxh1 = f(x)\n",
    "        \n",
    "        x[i] = tmp_val - h\n",
    "        fxh2 = f(x)\n",
    "        \n",
    "        grad[i] = (fxh1 - fxh2) / (2*h)\n",
    "        \n",
    "        x[i] = tmp_val\n",
    "        \n",
    "    return grad"
   ]
  },
  {
   "cell_type": "code",
   "execution_count": 66,
   "metadata": {},
   "outputs": [],
   "source": [
    "def gradient_descent(f, init_x, lr, step_num):\n",
    "    x = init_x\n",
    "    \n",
    "    for _ in range(step_num):\n",
    "        grad = numerical_gradient(f, x)\n",
    "        x = x - lr*grad\n",
    "        \n",
    "    return x"
   ]
  },
  {
   "cell_type": "code",
   "execution_count": 67,
   "metadata": {},
   "outputs": [
    {
     "data": {
      "text/plain": [
       "array([-6.11110797e-10,  8.14814402e-10])"
      ]
     },
     "execution_count": 67,
     "metadata": {},
     "output_type": "execute_result"
    }
   ],
   "source": [
    "def function_2(x):\n",
    "    return x[0]**2 + x[1]**2\n",
    "\n",
    "init_x = np.array([-3.0, 4.0])\n",
    "gradient_descent(function_2, init_x=init_x, lr=0.1, step_num=100)"
   ]
  },
  {
   "cell_type": "code",
   "execution_count": 69,
   "metadata": {},
   "outputs": [
    {
     "name": "stdout",
     "output_type": "stream",
     "text": [
      "[3.86679657e+09 1.77584273e+08]\n",
      "[-2.99999994  3.99999992]\n"
     ]
    }
   ],
   "source": [
    "init_x = np.array([-3.0, 4.0])\n",
    "print(gradient_descent(function_2, init_x=init_x, lr=10.0, step_num=100))\n",
    "print(gradient_descent(function_2, init_x=init_x, lr=1e-10, step_num=100))"
   ]
  },
  {
   "cell_type": "code",
   "execution_count": 78,
   "metadata": {},
   "outputs": [
    {
     "data": {
      "image/png": "[encoded data removed]",
      "text/plain": [
       "<Figure size 800x600 with 1 Axes>"
      ]
     },
     "metadata": {},
     "output_type": "display_data"
    }
   ],
   "source": [
    "import numpy as np\n",
    "import matplotlib.pyplot as plt\n",
    "\n",
    "# 함수 정의\n",
    "def function_2(x):\n",
    "    return x[0]**2 + x[1]**2\n",
    "\n",
    "# 수치 미분\n",
    "def numerical_gradient(f, x):\n",
    "    h = 1e-8\n",
    "    grad = np.zeros_like(x)\n",
    "    for i in range(len(x)):\n",
    "        tmp_val = x[i]\n",
    "        x[i] = tmp_val + h\n",
    "        fxh1 = f(x)\n",
    "        x[i] = tmp_val - h\n",
    "        fxh2 = f(x)\n",
    "        grad[i] = (fxh1 - fxh2) / (2 * h)\n",
    "        x[i] = tmp_val\n",
    "    return grad\n",
    "\n",
    "# 경사 하강법\n",
    "def gradient_descent(f, init_x, lr, step_num):\n",
    "    x = init_x\n",
    "    x_history = []\n",
    "    for _ in range(step_num):\n",
    "        x_history.append(x.copy())\n",
    "        grad = numerical_gradient(f, x)\n",
    "        x -= lr * grad\n",
    "    return x, np.array(x_history)\n",
    "\n",
    "# 하이퍼파라미터\n",
    "init_x = np.array([-3.0, 4.0])\n",
    "lr = 0.1\n",
    "step_num = 100\n",
    "\n",
    "# 실행\n",
    "final_x, x_history = gradient_descent(function_2, init_x, lr, step_num)\n",
    "\n",
    "# 등고선용 meshgrid\n",
    "x0 = np.linspace(-5.0, 5.0, 100)\n",
    "x1 = np.linspace(-4.0, 4.0, 100)\n",
    "X, Y = np.meshgrid(x0, x1)\n",
    "Z = X**2 + Y**2\n",
    "\n",
    "# 시각화\n",
    "plt.figure(figsize=(8, 6))\n",
    "contours = plt.contour(X, Y, Z, levels=5, colors='gray', linestyles='dashed')\n",
    "plt.clabel(contours, inline=True, fontsize=8)\n",
    "\n",
    "# 점만 표시 (선 없이)\n",
    "plt.scatter(x_history[:, 0], x_history[:, 1], color='red', s=10, label='GD Points')\n",
    "\n",
    "plt.xlabel('x0')\n",
    "plt.ylabel('x1')\n",
    "plt.grid(True)\n",
    "plt.legend()\n",
    "plt.axis('equal')\n",
    "plt.show()\n"
   ]
  },
  {
   "cell_type": "code",
   "execution_count": 96,
   "metadata": {},
   "outputs": [],
   "source": [
    "from util import softmax\n",
    "\n",
    "class simpleNet:\n",
    "    def __init__(self):\n",
    "        # 2 layer, intput: 3, output:2\n",
    "        self.network = {}\n",
    "        self.network[\"W1\"] = np.random.randn(2,3)\n",
    "        \n",
    "    def forward(self, x):\n",
    "        z = np.dot(x, self.network[\"W1\"])\n",
    "        y = softmax(z)\n",
    "        \n",
    "        return y\n",
    "        \n",
    "    def loss(self, x, t):\n",
    "        y = softmax(self.forward(x))\n",
    "        return CEE(y, t)"
   ]
  },
  {
   "cell_type": "code",
   "execution_count": 97,
   "metadata": {},
   "outputs": [
    {
     "data": {
      "text/plain": [
       "{'W1': array([[ 0.81670155, -0.51340783,  1.95950041],\n",
       "        [-0.74510343, -0.78106204,  0.56591509]])}"
      ]
     },
     "execution_count": 97,
     "metadata": {},
     "output_type": "execute_result"
    }
   ],
   "source": [
    "net = simpleNet()\n",
    "net.network"
   ]
  },
  {
   "cell_type": "code",
   "execution_count": 111,
   "metadata": {},
   "outputs": [
    {
     "data": {
      "text/plain": [
       "array([0.12665206, 0.05520289, 0.81814505])"
      ]
     },
     "execution_count": 111,
     "metadata": {},
     "output_type": "execute_result"
    }
   ],
   "source": [
    "x = np.array([0.6, 0.9])\n",
    "p = net.forward(x)\n",
    "p"
   ]
  },
  {
   "cell_type": "code",
   "execution_count": 112,
   "metadata": {},
   "outputs": [
    {
     "data": {
      "text/plain": [
       "2"
      ]
     },
     "execution_count": 112,
     "metadata": {},
     "output_type": "execute_result"
    }
   ],
   "source": [
    "np.argmax(p)"
   ]
  },
  {
   "cell_type": "code",
   "execution_count": null,
   "metadata": {},
   "outputs": [
    {
     "data": {
      "text/plain": [
       "0.6765706669521998"
      ]
     },
     "execution_count": 113,
     "metadata": {},
     "output_type": "execute_result"
    }
   ],
   "source": [
    "t = np.array([0, 0, 1])\n",
    "net.loss(x, t)"
   ]
  },
  {
   "cell_type": "code",
   "execution_count": 115,
   "metadata": {},
   "outputs": [],
   "source": [
    "def sigmoid(x):\n",
    "    return 1 / (1 + np.exp(-x))\n",
    "\n",
    "def softmax(x):\n",
    "        c = np.max(x)\n",
    "        exp_x = np.exp(x - c)\n",
    "        sum_exp_x = np.sum(exp_x)\n",
    "        y = exp_x / sum_exp_x\n",
    "        \n",
    "        return y\n",
    "    \n",
    "def CEE(y, t):\n",
    "    if y.ndim == 1:\n",
    "        t = t.reshape(1, t.size)\n",
    "        y = y.reshape(1, y.size)\n",
    "        \n",
    "    batch_size = y.shape[0]\n",
    "    \n",
    "    return -np.sum(np.log(y[np.arange(batch_size), t] + 1e-7)) / batch_size\n",
    "\n",
    "class simpleNet:\n",
    "    def __init__(self):\n",
    "        # 2 layer, intput: 3, output:2\n",
    "        self.network = {}\n",
    "        self.network[\"W1\"] = np.random.randn(2,3)\n",
    "        \n",
    "    def forward(self, x):\n",
    "        z = np.dot(x, self.network[\"W1\"])\n",
    "        y = softmax(z)\n",
    "        \n",
    "        return y\n",
    "        \n",
    "    def loss(self, x, t):\n",
    "        y = softmax(self.forward(x))\n",
    "        return CEE(y, t)"
   ]
  },
  {
   "cell_type": "code",
   "execution_count": 116,
   "metadata": {},
   "outputs": [
    {
     "data": {
      "text/plain": [
       "{'W1': array([[-0.20212546,  0.84112467,  0.45072884],\n",
       "        [ 1.11825225, -2.37790032,  0.40052831]])}"
      ]
     },
     "execution_count": 116,
     "metadata": {},
     "output_type": "execute_result"
    }
   ],
   "source": [
    "net = simpleNet()\n",
    "net.network"
   ]
  },
  {
   "cell_type": "code",
   "execution_count": null,
   "metadata": {},
   "outputs": [],
   "source": [
    "def sigmoid(x):\n",
    "    return 1 / (1 + np.exp(-x))\n",
    "\n",
    "def softmax(x):\n",
    "        c = np.max(x)\n",
    "        exp_x = np.exp(x - c)\n",
    "        sum_exp_x = np.sum(exp_x)\n",
    "        y = exp_x / sum_exp_x\n",
    "        \n",
    "        return y\n",
    "    \n",
    "def CEE(y, t):\n",
    "    if y.ndim == 1:\n",
    "        t = t.reshape(1, t.size)\n",
    "        y = y.reshape(1, y.size)\n",
    "        \n",
    "    batch_size = y.shape[0]\n",
    "    \n",
    "    return -np.sum(t * np.log(y + 1e-7)) / batch_size\n",
    "\n",
    "# 다차원 배열 gradient 처리\n",
    "def numerical_gradient(f, x):\n",
    "    h = 0.0001\n",
    "\n",
    "    shape = x.shape\n",
    "    x_flatten = x.reshape(-1)\n",
    "    size = len(x_flatten)\n",
    "\n",
    "    grad = np.zeros_like(x_flatten)\n",
    "\n",
    "    for i in range(size):\n",
    "        x_val = x_flatten[i]\n",
    "\n",
    "        x_flatten[i] = x_val + h\n",
    "        fxh1 = f(x_flatten.reshape(shape))\n",
    "\n",
    "        x_flatten[i] = x_val - h\n",
    "        fxh2 = f(x_flatten.reshape(shape))\n",
    "\n",
    "        grad[i] = (fxh1 - fxh2) / (2*h)\n",
    "\n",
    "        x_flatten[i] = x_val\n",
    "        \n",
    "    return grad.reshape(shape)\n",
    "\n",
    "class simpleNet:\n",
    "    def __init__(self):\n",
    "        # 2 layer, intput: 3, output:2\n",
    "        self.network = {}\n",
    "        self.network[\"W1\"] = np.random.randn(2,3)\n",
    "        \n",
    "    def forward(self, x):\n",
    "        z = np.dot(x, self.network[\"W1\"])\n",
    "        y = softmax(z)\n",
    "        \n",
    "        return y\n",
    "        \n",
    "    def loss(self, x, t):\n",
    "        y = self.forward(x)\n",
    "        return CEE(y, t)"
   ]
  },
  {
   "cell_type": "code",
   "execution_count": 126,
   "metadata": {},
   "outputs": [
    {
     "data": {
      "text/plain": [
       "array([[ 0.0338636 ,  0.15861355, -0.19247715],\n",
       "       [ 0.05079541,  0.23792032, -0.28871573]])"
      ]
     },
     "execution_count": 126,
     "metadata": {},
     "output_type": "execute_result"
    }
   ],
   "source": [
    "net = simpleNet()\n",
    "x = np.array([0.6, 0.9])\n",
    "t = np.array([0, 0, 1])\n",
    "\n",
    "def loss_func(W):\n",
    "    net.network[\"W1\"] = W\n",
    "    return net.loss(x, t)\n",
    "\n",
    "gradient(loss_func, net.network[\"W1\"])"
   ]
  },
  {
   "cell_type": "code",
   "execution_count": null,
   "metadata": {},
   "outputs": [],
   "source": [
    "def sigmoid(x):\n",
    "    return 1 / (1 + np.exp(-x))\n",
    "\n",
    "def softmax(x):\n",
    "        c = np.max(x)\n",
    "        exp_x = np.exp(x - c)\n",
    "        sum_exp_x = np.sum(exp_x)\n",
    "        y = exp_x / sum_exp_x\n",
    "        \n",
    "        return y\n",
    "\n",
    "# 배치용 CEE\n",
    "def CEE(y, t):\n",
    "    if y.ndim == 1:\n",
    "        y = y.reshape(1, -1)\n",
    "        t = t.reshape(1)\n",
    "    \n",
    "    if t.ndim == 1:\n",
    "        return -np.sum(np.log(y[np.arange(len(t)), t] + 1e-7)) / len(t)\n",
    "    else:\n",
    "        return -np.sum(t * np.log(y + 1e-7)) / y.shape[0]"
   ]
  },
  {
   "cell_type": "code",
   "execution_count": 73,
   "metadata": {},
   "outputs": [],
   "source": [
    "def numerical_gradient(f, params):\n",
    "    h = 0.0001\n",
    "\n",
    "    shape = params.shape\n",
    "    params_flatten = params.reshape(-1)\n",
    "    size = len(params_flatten)\n",
    "\n",
    "    grad = np.zeros_like(params_flatten)\n",
    "\n",
    "    for i in range(size):\n",
    "        param_val = params_flatten[i]\n",
    "\n",
    "        params_flatten[i] = param_val + h\n",
    "        fxh1 = f(params_flatten.reshape(shape))\n",
    "\n",
    "        params_flatten[i] = param_val - h\n",
    "        fxh2 = f(params_flatten.reshape(shape))\n",
    "\n",
    "        grad[i] = (fxh1 - fxh2) / (2*h)\n",
    "\n",
    "        params_flatten[i] = param_val\n",
    "        \n",
    "    return grad.reshape(shape)"
   ]
  },
  {
   "cell_type": "code",
   "execution_count": 134,
   "metadata": {},
   "outputs": [],
   "source": [
    "class TwoLayerNet:\n",
    "    def __init__(self, input_size, hidden_size, output_size):\n",
    "        # 2 layer, intput: 3, output:2\n",
    "        self.params = {}\n",
    "        # layer 1\n",
    "        self.params[\"W1\"] = np.random.randn(input_size,hidden_size)\n",
    "        self.params[\"B1\"] = np.random.randn(hidden_size)\n",
    "        #layer 2\n",
    "        self.params[\"W2\"] = np.random.randn(hidden_size,output_size)\n",
    "        self.params[\"B2\"] = np.random.randn(output_size)\n",
    "        \n",
    "        self.grads = {}\n",
    "        \n",
    "    def predict(self, x):\n",
    "        z = sigmoid(np.dot(x, self.params[\"W1\"]) + self.params[\"B1\"])\n",
    "        y = softmax(np.dot(z, self.params[\"W2\"]) + self.params[\"B2\"])\n",
    "        return y\n",
    "        \n",
    "    def loss(self, x, t):\n",
    "        y = self.predict(x)\n",
    "        \n",
    "        return CEE(y, t)\n",
    "    \n",
    "    def accuracy(self, Y, t):\n",
    "        predict_label = np.argmax(Y, axis=1)\n",
    "        \n",
    "        return np.sum(predict_label == t) / len(predict_label)\n",
    "    \n",
    "    def gradient(self, x, t):\n",
    "        for key in self.params.keys():\n",
    "            def loss_func(param):\n",
    "                return self.loss(x, t)\n",
    "\n",
    "            self.grads[key] = numerical_gradient(loss_func, self.params[key])\n",
    "    \n",
    "        return self.grads\n",
    "        "
   ]
  },
  {
   "cell_type": "code",
   "execution_count": 132,
   "metadata": {},
   "outputs": [
    {
     "data": {
      "text/plain": [
       "((784, 100), (100,), (100, 10), (10,))"
      ]
     },
     "execution_count": 132,
     "metadata": {},
     "output_type": "execute_result"
    }
   ],
   "source": [
    "net = TwoLayerNet(input_size=784, hidden_size=100, output_size=10)\n",
    "net.params[\"W1\"].shape, net.params[\"B1\"].shape, net.params[\"W2\"].shape, net.params[\"B2\"].shape"
   ]
  },
  {
   "cell_type": "code",
   "execution_count": null,
   "metadata": {},
   "outputs": [],
   "source": [
    "x = np.random.randn(100, 784)\n",
    "t = np.random.randint(0, 10, size=(100,))\n",
    "\n",
    "grads = net.gradient(x, t)"
   ]
  },
  {
   "cell_type": "code",
   "execution_count": null,
   "metadata": {},
   "outputs": [
    {
     "data": {
      "text/plain": [
       "((784, 100), (100,), (100, 10), (10,))"
      ]
     },
     "execution_count": 100,
     "metadata": {},
     "output_type": "execute_result"
    }
   ],
   "source": [
    "grads[\"W1\"].shape, grads[\"B1\"].shape, grads[\"W2\"].shape, grads[\"B2\"].shape"
   ]
  },
  {
   "cell_type": "code",
   "execution_count": null,
   "metadata": {},
   "outputs": [
    {
     "data": {
      "text/plain": [
       "((60000, 784), (60000, 10))"
      ]
     },
     "execution_count": 80,
     "metadata": {},
     "output_type": "execute_result"
    }
   ],
   "source": [
    "x_train.shape, t_train.shape"
   ]
  },
  {
   "cell_type": "code",
   "execution_count": 137,
   "metadata": {},
   "outputs": [],
   "source": [
    "from dataset.mnist import load_mnist\n",
    "\n",
    "(x_train, t_train), (x_test, t_test) = load_mnist(normalize=True, one_hot_label=True)\n",
    "\n",
    "train_loss_list = []\n",
    "\n",
    "iters_num = 10000\n",
    "train_size = x_train.shape[0]\n",
    "batch_size = 100\n",
    "lr = 0.1"
   ]
  },
  {
   "cell_type": "code",
   "execution_count": 142,
   "metadata": {},
   "outputs": [
    {
     "name": "stdout",
     "output_type": "stream",
     "text": [
      " ======= 1/10000 =======\n",
      "loss : 14.811386555403928\n",
      " ======= 2/10000 =======\n",
      "loss : 14.408392734322273\n",
      " ======= 3/10000 =======\n",
      "loss : 13.955339714979116\n",
      " ======= 4/10000 =======\n",
      "loss : 13.33051347508331\n",
      " ======= 5/10000 =======\n",
      "loss : 12.826477497565794\n",
      " ======= 6/10000 =======\n",
      "loss : 12.613144153682176\n",
      " ======= 7/10000 =======\n",
      "loss : 12.662980996727974\n",
      " ======= 8/10000 =======\n",
      "loss : 11.64103634182843\n",
      " ======= 9/10000 =======\n",
      "loss : 11.986257396411606\n",
      " ======= 10/10000 =======\n"
     ]
    },
    {
     "ename": "KeyboardInterrupt",
     "evalue": "",
     "output_type": "error",
     "traceback": [
      "\u001b[1;31m---------------------------------------------------------------------------\u001b[0m",
      "\u001b[1;31mKeyboardInterrupt\u001b[0m                         Traceback (most recent call last)",
      "Cell \u001b[1;32mIn[142], line 33\u001b[0m\n\u001b[0;32m     30\u001b[0m x_batch \u001b[38;5;241m=\u001b[39m x_train_shuffled[offset:offset\u001b[38;5;241m+\u001b[39mbatch_size]\n\u001b[0;32m     31\u001b[0m t_batch \u001b[38;5;241m=\u001b[39m t_train_shuffled[offset:offset\u001b[38;5;241m+\u001b[39mbatch_size]\n\u001b[1;32m---> 33\u001b[0m grads \u001b[38;5;241m=\u001b[39m \u001b[43mnetwork\u001b[49m\u001b[38;5;241;43m.\u001b[39;49m\u001b[43mgradient\u001b[49m\u001b[43m(\u001b[49m\u001b[43mx_batch\u001b[49m\u001b[43m,\u001b[49m\u001b[43m \u001b[49m\u001b[43mt_batch\u001b[49m\u001b[43m)\u001b[49m\n\u001b[0;32m     34\u001b[0m loss \u001b[38;5;241m=\u001b[39m network\u001b[38;5;241m.\u001b[39mloss(x_batch, t_batch)\n\u001b[0;32m     35\u001b[0m \u001b[38;5;28mprint\u001b[39m(\u001b[38;5;124mf\u001b[39m\u001b[38;5;124m\"\u001b[39m\u001b[38;5;124mloss : \u001b[39m\u001b[38;5;132;01m{\u001b[39;00mloss\u001b[38;5;132;01m}\u001b[39;00m\u001b[38;5;124m\"\u001b[39m)\n",
      "Cell \u001b[1;32mIn[134], line 34\u001b[0m, in \u001b[0;36mTwoLayerNet.gradient\u001b[1;34m(self, x, t)\u001b[0m\n\u001b[0;32m     31\u001b[0m     \u001b[38;5;28;01mdef\u001b[39;00m \u001b[38;5;21mloss_func\u001b[39m(param):\n\u001b[0;32m     32\u001b[0m         \u001b[38;5;28;01mreturn\u001b[39;00m \u001b[38;5;28mself\u001b[39m\u001b[38;5;241m.\u001b[39mloss(x, t)\n\u001b[1;32m---> 34\u001b[0m     \u001b[38;5;28mself\u001b[39m\u001b[38;5;241m.\u001b[39mgrads[key] \u001b[38;5;241m=\u001b[39m \u001b[43mnumerical_gradient\u001b[49m\u001b[43m(\u001b[49m\u001b[43mloss_func\u001b[49m\u001b[43m,\u001b[49m\u001b[43m \u001b[49m\u001b[38;5;28;43mself\u001b[39;49m\u001b[38;5;241;43m.\u001b[39;49m\u001b[43mparams\u001b[49m\u001b[43m[\u001b[49m\u001b[43mkey\u001b[49m\u001b[43m]\u001b[49m\u001b[43m)\u001b[49m\n\u001b[0;32m     36\u001b[0m \u001b[38;5;28;01mreturn\u001b[39;00m \u001b[38;5;28mself\u001b[39m\u001b[38;5;241m.\u001b[39mgrads\n",
      "Cell \u001b[1;32mIn[73], line 17\u001b[0m, in \u001b[0;36mnumerical_gradient\u001b[1;34m(f, params)\u001b[0m\n\u001b[0;32m     14\u001b[0m fxh1 \u001b[38;5;241m=\u001b[39m f(params_flatten\u001b[38;5;241m.\u001b[39mreshape(shape))\n\u001b[0;32m     16\u001b[0m params_flatten[i] \u001b[38;5;241m=\u001b[39m param_val \u001b[38;5;241m-\u001b[39m h\n\u001b[1;32m---> 17\u001b[0m fxh2 \u001b[38;5;241m=\u001b[39m \u001b[43mf\u001b[49m\u001b[43m(\u001b[49m\u001b[43mparams_flatten\u001b[49m\u001b[38;5;241;43m.\u001b[39;49m\u001b[43mreshape\u001b[49m\u001b[43m(\u001b[49m\u001b[43mshape\u001b[49m\u001b[43m)\u001b[49m\u001b[43m)\u001b[49m\n\u001b[0;32m     19\u001b[0m grad[i] \u001b[38;5;241m=\u001b[39m (fxh1 \u001b[38;5;241m-\u001b[39m fxh2) \u001b[38;5;241m/\u001b[39m (\u001b[38;5;241m2\u001b[39m\u001b[38;5;241m*\u001b[39mh)\n\u001b[0;32m     21\u001b[0m params_flatten[i] \u001b[38;5;241m=\u001b[39m param_val\n",
      "Cell \u001b[1;32mIn[134], line 32\u001b[0m, in \u001b[0;36mTwoLayerNet.gradient.<locals>.loss_func\u001b[1;34m(param)\u001b[0m\n\u001b[0;32m     31\u001b[0m \u001b[38;5;28;01mdef\u001b[39;00m \u001b[38;5;21mloss_func\u001b[39m(param):\n\u001b[1;32m---> 32\u001b[0m     \u001b[38;5;28;01mreturn\u001b[39;00m \u001b[38;5;28;43mself\u001b[39;49m\u001b[38;5;241;43m.\u001b[39;49m\u001b[43mloss\u001b[49m\u001b[43m(\u001b[49m\u001b[43mx\u001b[49m\u001b[43m,\u001b[49m\u001b[43m \u001b[49m\u001b[43mt\u001b[49m\u001b[43m)\u001b[49m\n",
      "Cell \u001b[1;32mIn[134], line 20\u001b[0m, in \u001b[0;36mTwoLayerNet.loss\u001b[1;34m(self, x, t)\u001b[0m\n\u001b[0;32m     19\u001b[0m \u001b[38;5;28;01mdef\u001b[39;00m \u001b[38;5;21mloss\u001b[39m(\u001b[38;5;28mself\u001b[39m, x, t):\n\u001b[1;32m---> 20\u001b[0m     y \u001b[38;5;241m=\u001b[39m \u001b[38;5;28;43mself\u001b[39;49m\u001b[38;5;241;43m.\u001b[39;49m\u001b[43mpredict\u001b[49m\u001b[43m(\u001b[49m\u001b[43mx\u001b[49m\u001b[43m)\u001b[49m\n\u001b[0;32m     22\u001b[0m     \u001b[38;5;28;01mreturn\u001b[39;00m CEE(y, t)\n",
      "Cell \u001b[1;32mIn[134], line 15\u001b[0m, in \u001b[0;36mTwoLayerNet.predict\u001b[1;34m(self, x)\u001b[0m\n\u001b[0;32m     14\u001b[0m \u001b[38;5;28;01mdef\u001b[39;00m \u001b[38;5;21mpredict\u001b[39m(\u001b[38;5;28mself\u001b[39m, x):\n\u001b[1;32m---> 15\u001b[0m     z \u001b[38;5;241m=\u001b[39m sigmoid(\u001b[43mnp\u001b[49m\u001b[38;5;241;43m.\u001b[39;49m\u001b[43mdot\u001b[49m\u001b[43m(\u001b[49m\u001b[43mx\u001b[49m\u001b[43m,\u001b[49m\u001b[43m \u001b[49m\u001b[38;5;28;43mself\u001b[39;49m\u001b[38;5;241;43m.\u001b[39;49m\u001b[43mparams\u001b[49m\u001b[43m[\u001b[49m\u001b[38;5;124;43m\"\u001b[39;49m\u001b[38;5;124;43mW1\u001b[39;49m\u001b[38;5;124;43m\"\u001b[39;49m\u001b[43m]\u001b[49m\u001b[43m)\u001b[49m \u001b[38;5;241m+\u001b[39m \u001b[38;5;28mself\u001b[39m\u001b[38;5;241m.\u001b[39mparams[\u001b[38;5;124m\"\u001b[39m\u001b[38;5;124mB1\u001b[39m\u001b[38;5;124m\"\u001b[39m])\n\u001b[0;32m     16\u001b[0m     y \u001b[38;5;241m=\u001b[39m softmax(np\u001b[38;5;241m.\u001b[39mdot(z, \u001b[38;5;28mself\u001b[39m\u001b[38;5;241m.\u001b[39mparams[\u001b[38;5;124m\"\u001b[39m\u001b[38;5;124mW2\u001b[39m\u001b[38;5;124m\"\u001b[39m]) \u001b[38;5;241m+\u001b[39m \u001b[38;5;28mself\u001b[39m\u001b[38;5;241m.\u001b[39mparams[\u001b[38;5;124m\"\u001b[39m\u001b[38;5;124mB2\u001b[39m\u001b[38;5;124m\"\u001b[39m])\n\u001b[0;32m     17\u001b[0m     \u001b[38;5;28;01mreturn\u001b[39;00m y\n",
      "\u001b[1;31mKeyboardInterrupt\u001b[0m: "
     ]
    }
   ],
   "source": [
    "from dataset.mnist import load_mnist\n",
    "\n",
    "(x_train, t_train), (x_test, t_test) = load_mnist(normalize=True, one_hot_label=True)\n",
    "\n",
    "train_loss_list = []\n",
    "\n",
    "iters_num = 10000\n",
    "train_size = x_train.shape[0]\n",
    "batch_size = 100\n",
    "lr = 0.1\n",
    "\n",
    "def shuffle_data(x, t):\n",
    "    x_dim = x.shape[1]\n",
    "    xt_concat = np.concatenate([x, t], axis=1)\n",
    "    \n",
    "    np.random.shuffle(xt_concat)\n",
    "    \n",
    "    x_shuffled = xt_concat[:, :x_dim]\n",
    "    t_shuffled = xt_concat[:, x_dim:]\n",
    "    \n",
    "    return x_shuffled, t_shuffled\n",
    "\n",
    "network = TwoLayerNet(input_size=784, hidden_size=50, output_size=10)\n",
    "\n",
    "offset = 0\n",
    "for i in range(iters_num):\n",
    "    print(f\" ======= {i+1}/{iters_num} =======\")\n",
    "    x_train_shuffled, t_train_shuffled = shuffle_data(x_train, t_train)\n",
    "    \n",
    "    x_batch = x_train_shuffled[offset:offset+batch_size]\n",
    "    t_batch = t_train_shuffled[offset:offset+batch_size]\n",
    "    \n",
    "    grads = network.gradient(x_batch, t_batch)\n",
    "    loss = network.loss(x_batch, t_batch)\n",
    "    print(f\"loss : {loss}\")\n",
    "    for key in network.params.keys():\n",
    "        network.params[key] -= lr*grads[key]\n",
    "        \n",
    "    train_loss_list.append(loss)"
   ]
  },
  {
   "cell_type": "code",
   "execution_count": null,
   "metadata": {},
   "outputs": [
    {
     "data": {
      "text/plain": [
       "((784, 50), (784, 100))"
      ]
     },
     "execution_count": 126,
     "metadata": {},
     "output_type": "execute_result"
    }
   ],
   "source": [
    "iters_num = 10000\n",
    "train_size = x_train.shape[0]\n",
    "batch_size = 100\n",
    "lr = 0.1\n",
    "\n",
    "network = TwoLayerNet(input_size=784, hidden_size=50, output_size=10)"
   ]
  },
  {
   "cell_type": "code",
   "execution_count": null,
   "metadata": {},
   "outputs": [],
   "source": [
    "class MulLayer:\n",
    "    def __init__(self):\n",
    "        self.x = None\n",
    "        self.y = None\n",
    "        \n",
    "    def forward(self, x, y):\n",
    "        self.x = x\n",
    "        self.y = y\n",
    "        \n",
    "        return self.x * self.y\n",
    "\n",
    "    def backward(self, dz):\n",
    "        grads = {}\n",
    "        grads[\"x\"] = dz * self.y\n",
    "        grads[\"y\"] = dz * self.x\n",
    "        \n",
    "        return grads\n",
    "        \n",
    "\n",
    "class AddLayer:\n",
    "    def __init__(self):\n",
    "        self.x = None\n",
    "        self.y = None\n",
    "        \n",
    "    def forward(self, x, y):\n",
    "        self.x = x\n",
    "        self.y = y\n",
    "        \n",
    "        return self.x + self.y\n",
    "\n",
    "    def backward(self, dz):\n",
    "        grads = {}\n",
    "        grads[\"x\"] = dz\n",
    "        grads[\"y\"] = dz\n",
    "        \n",
    "        return grads"
   ]
  },
  {
   "cell_type": "code",
   "execution_count": null,
   "metadata": {},
   "outputs": [
    {
     "name": "stdout",
     "output_type": "stream",
     "text": [
      "100 2\n",
      "200 1.1\n",
      "200 220.00000000000003\n"
     ]
    }
   ],
   "source": [
    "apple = 100\n",
    "apple_num = 2\n",
    "tax = 1.1\n",
    "\n",
    "mul_apple_layer = MulLayer()\n",
    "mul_tax_layer = MulLayer()\n",
    "\n",
    "apple_price = mul_apple_layer.forward(apple, apple_num)\n",
    "price = mul_tax_layer.forward(apple_price, tax)\n",
    "\n",
    "print(mul_apple_layer.x, mul_apple_layer.y)\n",
    "print(mul_tax_layer.x, mul_tax_layer.y)\n",
    "print(apple_price, price)"
   ]
  },
  {
   "cell_type": "code",
   "execution_count": null,
   "metadata": {},
   "outputs": [
    {
     "name": "stdout",
     "output_type": "stream",
     "text": [
      "715.0000000000001\n",
      "110.00000000000001 2.2 3.3000000000000003 165.0 650\n"
     ]
    }
   ],
   "source": [
    "apple = 100\n",
    "apple_num = 2\n",
    "orange = 150\n",
    "orange_num = 3\n",
    "tax = 1.1\n",
    "\n",
    "mul_apple_layer = MulLayer()\n",
    "mul_orange_layer = MulLayer()\n",
    "add_apple_orange_layer = AddLayer()\n",
    "mul_tax_layer = MulLayer()\n",
    "\n",
    "apple_price = mul_apple_layer.forward(apple, apple_num)\n",
    "orange_price = mul_orange_layer.forward(orange, orange_num)\n",
    "all_price = add_apple_orange_layer.forward(apple_price, orange_price)\n",
    "price = mul_tax_layer.forward(all_price, tax)\n",
    "\n",
    "dprice = 1\n",
    "dall_price, dtax = mul_tax_layer.backward(dprice).values()\n",
    "dapple_price, dorange_price = add_apple_orange_layer.backward(dall_price).values()\n",
    "dapple, dapple_num = mul_apple_layer.backward(dapple_price).values()\n",
    "dorange, dorange_num = mul_orange_layer.backward(dorange_price).values()\n",
    "\n",
    "print(price)\n",
    "print(dapple_num, dapple, dorange, dorange_num, dtax)\n"
   ]
  },
  {
   "cell_type": "code",
   "execution_count": null,
   "metadata": {},
   "outputs": [],
   "source": [
    "class ReLU:\n",
    "    def __init__(self):\n",
    "        self.x = None\n",
    "        \n",
    "    def forward(self, x):\n",
    "        self.x = x\n",
    "        return (x > 0)*x\n",
    "    \n",
    "    def backward(self, dz):\n",
    "        return (dz > 0).astype(int)\n",
    "    "
   ]
  },
  {
   "cell_type": "code",
   "execution_count": null,
   "metadata": {},
   "outputs": [
    {
     "data": {
      "text/plain": [
       "array([[ 1. , -2. ],\n",
       "       [-0.5,  3. ]])"
      ]
     },
     "execution_count": 226,
     "metadata": {},
     "output_type": "execute_result"
    }
   ],
   "source": [
    "x = np.array([[1.0, -0.5], [-2.0, 3.0]])\n",
    "x.T"
   ]
  },
  {
   "cell_type": "code",
   "execution_count": null,
   "metadata": {},
   "outputs": [
    {
     "data": {
      "text/plain": [
       "array([[False,  True],\n",
       "       [ True, False]])"
      ]
     },
     "execution_count": 227,
     "metadata": {},
     "output_type": "execute_result"
    }
   ],
   "source": [
    "mask = (x<=0)\n",
    "mask"
   ]
  },
  {
   "cell_type": "code",
   "execution_count": null,
   "metadata": {},
   "outputs": [],
   "source": [
    "class Sigmoid:\n",
    "    def __init__(self):\n",
    "        self.x = None\n",
    "        self.y = None\n",
    "        \n",
    "    def forward(self, x):\n",
    "        self.x = x\n",
    "        self.y = 1 / (1 + np.exp(-self.x))\n",
    "        return self.y\n",
    "    \n",
    "    def backward(self, dz):\n",
    "        return dz * self.y *(1 - self.y)"
   ]
  },
  {
   "cell_type": "code",
   "execution_count": null,
   "metadata": {},
   "outputs": [],
   "source": [
    "class Affine:\n",
    "    def __init__(self, W, b):\n",
    "        self.W = W\n",
    "        self.b = b\n",
    "        self.X = None\n",
    "    def forward(self, X):\n",
    "        self.X = X        \n",
    "        return np.dot(X, self.W) + self.b\n",
    "    \n",
    "    def backward(self, dz):\n",
    "        grads = {}\n",
    "        grads[\"W\"] = np.dot(self.X.T, dz)\n",
    "        grads[\"X\"] = np.dot(dz, self.W.T)\n",
    "        grads[\"b\"] = np.sum(dz, axis=0)\n",
    "        \n",
    "        return grads"
   ]
  },
  {
   "cell_type": "code",
   "execution_count": null,
   "metadata": {},
   "outputs": [],
   "source": [
    "class Softmax_with_Loss:\n",
    "    def __init__(self):\n",
    "        self.y = None\n",
    "        self.t = None\n",
    "        \n",
    "    def forward(self, X, t):\n",
    "        self.y = softmax(X)\n",
    "        self.t = t\n",
    "        loss = CEE(self.y, self.t)\n",
    "        \n",
    "        return loss\n",
    "    \n",
    "    def backward(self):\n",
    "        return (self.y - self.t)/self.t.shape[0]"
   ]
  },
  {
   "cell_type": "code",
   "execution_count": null,
   "metadata": {},
   "outputs": [
    {
     "data": {
      "text/plain": [
       "(array([[0.15130796, 0.13690911, 0.18480796],\n",
       "        [0.11321824, 0.30166504, 0.1120917 ]]),\n",
       " array([[ 0.15130796, -0.86309089,  0.18480796],\n",
       "        [ 0.11321824, -0.69833496,  0.1120917 ]]))"
      ]
     },
     "execution_count": 236,
     "metadata": {},
     "output_type": "execute_result"
    }
   ],
   "source": [
    "l = Softmax_with_Loss()\n",
    "\n",
    "X = np.array([[0.3, 0.2, 0.5], [0.01, 0.99, 0.0]])\n",
    "t = np.array([[0, 1, 0], [0, 1, 0]])\n",
    "l.forward(X, t)\n",
    "softmax(X), l.backward()\n"
   ]
  },
  {
   "cell_type": "code",
   "execution_count": null,
   "metadata": {},
   "outputs": [],
   "source": [
    "import numpy as np\n",
    "from collections import OrderedDict\n",
    "\n",
    "def sigmoid(x):\n",
    "    return 1 / (1 + np.exp(-x))\n",
    "\n",
    "#def softmax(x):\n",
    "#        c = np.max(x)\n",
    "#        exp_x = np.exp(x - c)\n",
    "#        sum_exp_x = np.sum(exp_x)\n",
    "#        y = exp_x / sum_exp_x\n",
    "#        \n",
    "#        return y\n",
    " \n",
    "def softmax(x):\n",
    "    if x.ndim == 2:\n",
    "        c = np.max(x, axis=1, keepdims=True)\n",
    "        exp_x = np.exp(x - c)\n",
    "        sum_exp_x = np.sum(exp_x, axis=1, keepdims=True)\n",
    "        return exp_x / sum_exp_x\n",
    "    else:\n",
    "        c = np.max(x)\n",
    "        exp_x = np.exp(x - c)\n",
    "        return exp_x / np.sum(exp_x)\n",
    "       \n",
    "def CEE(y, t):\n",
    "    if y.ndim == 1:\n",
    "        t = t.reshape(1, t.size)\n",
    "        y = y.reshape(1, y.size)\n",
    "        \n",
    "    batch_size = y.shape[0]\n",
    "    \n",
    "    return -np.sum(t * np.log(y + 1e-7)) / batch_size\n",
    "\n",
    "def gradient(f, x):\n",
    "    h = 0.0001\n",
    "\n",
    "    shape = x.shape\n",
    "    x_flatten = x.reshape(-1)\n",
    "    size = len(x_flatten)\n",
    "\n",
    "    grad = np.zeros_like(x_flatten)\n",
    "\n",
    "    for i in range(size):\n",
    "        x_val = x_flatten[i]\n",
    "\n",
    "        x_flatten[i] = x_val + h\n",
    "        fxh1 = f(x_flatten.reshape(shape))\n",
    "\n",
    "        x_flatten[i] = x_val - h\n",
    "        fxh2 = f(x_flatten.reshape(shape))\n",
    "\n",
    "        grad[i] = (fxh1 - fxh2) / (2*h)\n",
    "\n",
    "        x_flatten[i] = x_val\n",
    "        \n",
    "    return grad.reshape(shape)\n",
    "\n",
    "class ReLU:\n",
    "    def __init__(self):\n",
    "        self.x = None\n",
    "        \n",
    "    def forward(self, x):\n",
    "        self.x = x\n",
    "        return (x > 0)*x\n",
    "    \n",
    "    def backward(self, dz):\n",
    "        return dz*(self.x > 0).astype(int)\n",
    "    \n",
    "class Sigmoid:\n",
    "    def __init__(self):\n",
    "        self.x = None\n",
    "        self.y = None\n",
    "        \n",
    "    def forward(self, x):\n",
    "        self.x = x\n",
    "        self.y = 1 / (1 + np.exp(-self.x))\n",
    "        return self.y\n",
    "    \n",
    "    def backward(self, dz):\n",
    "        return dz * self.y *(1 - self.y)\n",
    "    \n",
    "class Affine:\n",
    "    def __init__(self, W, b):\n",
    "        self.W = W\n",
    "        self.b = b\n",
    "        self.X = None \n",
    "        \n",
    "    def forward(self, X):\n",
    "        self.X = X        \n",
    "        return np.dot(X, self.W) + self.b\n",
    "    \n",
    "    def backward(self, dz):\n",
    "        grads = {}\n",
    "        grads[\"W\"] = np.dot(self.X.T, dz)\n",
    "        grads[\"X\"] = np.dot(dz, self.W.T)\n",
    "        grads[\"b\"] = np.sum(dz, axis=0)\n",
    "        \n",
    "        return grads\n",
    "\n",
    "class Softmax_with_Loss:\n",
    "    def __init__(self):\n",
    "        self.y = None\n",
    "        self.t = None\n",
    "        \n",
    "    def forward(self, X, t):\n",
    "        self.y = softmax(X)\n",
    "        self.t = t\n",
    "        loss = CEE(self.y, self.t)\n",
    "        \n",
    "        return loss\n",
    "    \n",
    "    def backward(self):\n",
    "        batch_size = self.t.shape[0]\n",
    "        return (self.y - self.t) / batch_size\n",
    "    \n",
    "class TwoLayerNet:\n",
    "    def __init__(self, input_size, hidden_size, output_size):\n",
    "        self.params = {}\n",
    "        # layer 1\n",
    "        self.params[\"W1\"] = 0.01 * np.random.randn(input_size,hidden_size)\n",
    "        self.params[\"B1\"] = 0.01 * np.random.randn(hidden_size)\n",
    "        #layer 2\n",
    "        self.params[\"W2\"] = 0.01 * np.random.randn(hidden_size,output_size)\n",
    "        self.params[\"B2\"] = 0.01 * np.random.randn(output_size)\n",
    "        \n",
    "        self.layer = OrderedDict()\n",
    "        self.layer[\"Affine1\"] = Affine(self.params[\"W1\"], self.params[\"B1\"])\n",
    "        self.layer[\"ReLU1\"] = ReLU()\n",
    "        self.layer[\"Affine2\"] = Affine(self.params[\"W2\"], self.params[\"B2\"])\n",
    "        \n",
    "        self.last_layer = Softmax_with_Loss()\n",
    "        \n",
    "    def predict(self, X):\n",
    "        h = self.layer[\"Affine1\"].forward(X)\n",
    "        h = self.layer[\"ReLU1\"].forward(h)\n",
    "        y = self.layer[\"Affine2\"].forward(h)\n",
    "        \n",
    "        return y\n",
    "        \n",
    "    def loss(self, x, t):\n",
    "        y = self.predict(x)\n",
    "        loss = self.last_layer.forward(y, t)\n",
    "        return loss\n",
    "    \n",
    "    def accuracy(self, x, t):\n",
    "        Y = self.predict(x)\n",
    "        predict_label = np.argmax(Y, axis=1)\n",
    "        target_label = np.argmax(t, axis=1)\n",
    "        return np.sum(predict_label == target_label) / len(predict_label)\n",
    "    \n",
    "    def numerical_gradient(self, x, t):\n",
    "        grads = {}\n",
    "\n",
    "        for key in self.params:\n",
    "            original_param = self.params[key]\n",
    "\n",
    "            def loss_func(param):\n",
    "                self.params[key][...] = param\n",
    "                y = self.predict(x)\n",
    "                return self.last_layer.forward(y, t)\n",
    "\n",
    "            h = 1e-4\n",
    "            shape = original_param.shape\n",
    "            param_flat = original_param.reshape(-1)\n",
    "            grad = np.zeros_like(param_flat)\n",
    "\n",
    "            for i in range(len(param_flat)):\n",
    "                tmp_val = param_flat[i]\n",
    "\n",
    "                param_flat[i] = tmp_val + h\n",
    "                fxh1 = loss_func(param_flat.reshape(shape))\n",
    "\n",
    "                param_flat[i] = tmp_val - h\n",
    "                fxh2 = loss_func(param_flat.reshape(shape))\n",
    "\n",
    "                grad[i] = (fxh1 - fxh2) / (2 * h)\n",
    "\n",
    "                param_flat[i] = tmp_val\n",
    "\n",
    "            grads[key] = grad.reshape(shape)\n",
    "            #self.params[key] = original_param\n",
    "        return grads\n",
    "    \n",
    "    def gradient(self, x, t):\n",
    "        loss = self.loss(x, t)\n",
    "        grads = {}\n",
    "        \n",
    "        dout = self.last_layer.backward()\n",
    "        temp_grads = self.layer[\"Affine2\"].backward(dout)\n",
    "        grads[\"W2\"] = temp_grads[\"W\"]\n",
    "        grads[\"B2\"] = temp_grads[\"b\"]\n",
    "        dout = temp_grads[\"X\"]\n",
    "        \n",
    "        dout = self.layer[\"ReLU1\"].backward(dout)\n",
    "        \n",
    "        temp_grads = self.layer[\"Affine1\"].backward(dout)\n",
    "        grads[\"W1\"] = temp_grads[\"W\"]\n",
    "        grads[\"B1\"] = temp_grads[\"b\"]\n",
    "        \n",
    "        return grads"
   ]
  },
  {
   "cell_type": "code",
   "execution_count": null,
   "metadata": {},
   "outputs": [
    {
     "name": "stdout",
     "output_type": "stream",
     "text": [
      "W1:4.2370386485336347e-10\n",
      "B1:2.4638643547451877e-09\n",
      "W2:5.852659927378508e-09\n",
      "B2:1.417520355082025e-07\n"
     ]
    }
   ],
   "source": [
    "import numpy as np\n",
    "from dataset.mnist import load_mnist\n",
    "\n",
    "(x_train, t_train), (x_test, t_test) = load_mnist(normalize=True, one_hot_label=True)\n",
    "\n",
    "network = TwoLayerNet(input_size=784, hidden_size=50, output_size=10)\n",
    "\n",
    "x_batch = x_train[:3]\n",
    "t_batch = t_train[:3]\n",
    "\n",
    "grad_numerical = network.numerical_gradient(x_batch, t_batch)\n",
    "grad_backprop = network.gradient(x_batch, t_batch)\n",
    "\n",
    "for key in grad_numerical.keys():\n",
    "    diff = np.average(np.abs(grad_backprop[key] - grad_numerical[key]))\n",
    "    print(key + \":\" + str(diff))"
   ]
  },
  {
   "cell_type": "markdown",
   "metadata": {},
   "source": [
    "weight 초기화 문제"
   ]
  }
 ],
 "metadata": {
  "kernelspec": {
   "display_name": "base",
   "language": "python",
   "name": "python3"
  },
  "language_info": {
   "codemirror_mode": {
    "name": "ipython",
    "version": 3
   },
   "file_extension": ".py",
   "mimetype": "text/x-python",
   "name": "python",
   "nbconvert_exporter": "python",
   "pygments_lexer": "ipython3",
   "version": "3.12.7"
  }
 },
 "nbformat": 4,
 "nbformat_minor": 2
}
